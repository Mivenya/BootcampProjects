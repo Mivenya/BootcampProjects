{
 "cells": [
  {
   "cell_type": "markdown",
   "id": "cb140bed-0a29-45cf-a1e0-07c3e1f734f1",
   "metadata": {},
   "source": [
    "## Mandy's Avocado Project"
   ]
  },
  {
   "cell_type": "code",
   "execution_count": 1,
   "id": "4d61ed71-c2a4-46e3-9f8b-171010b50bc3",
   "metadata": {},
   "outputs": [],
   "source": [
    "# First all the imports"
   ]
  },
  {
   "cell_type": "code",
   "execution_count": 2,
   "id": "c8e7b8c1-b25e-47ff-a2c0-3a4ea7f0901d",
   "metadata": {},
   "outputs": [],
   "source": [
    "import pandas as pd\n",
    "import numpy as np\n",
    "from sklearn.model_selection import train_test_split\n",
    "import matplotlib.pyplot as plt\n",
    "import seaborn as sns\n",
    "from sklearn.tree import DecisionTreeClassifier\n",
    "from sklearn.ensemble import RandomForestClassifier\n",
    "from sklearn.svm import SVC\n",
    "from sklearn.metrics import classification_report, confusion_matrix\n",
    "from sklearn.preprocessing import LabelEncoder, StandardScaler\n",
    "from sklearn.neighbors import KNeighborsRegressor\n",
    "from sklearn.metrics import mean_squared_error\n",
    "from sklearn.metrics import mean_absolute_error\n",
    "from sklearn.svm import SVR\n",
    "\n",
    "enc = LabelEncoder()\n",
    "\n",
    "\n",
    "scaler = StandardScaler()"
   ]
  },
  {
   "cell_type": "code",
   "execution_count": 3,
   "id": "8555b1b4-b572-42ba-a4d8-a37f0164fecb",
   "metadata": {},
   "outputs": [
    {
     "data": {
      "text/html": [
       "<div>\n",
       "<style scoped>\n",
       "    .dataframe tbody tr th:only-of-type {\n",
       "        vertical-align: middle;\n",
       "    }\n",
       "\n",
       "    .dataframe tbody tr th {\n",
       "        vertical-align: top;\n",
       "    }\n",
       "\n",
       "    .dataframe thead th {\n",
       "        text-align: right;\n",
       "    }\n",
       "</style>\n",
       "<table border=\"1\" class=\"dataframe\">\n",
       "  <thead>\n",
       "    <tr style=\"text-align: right;\">\n",
       "      <th></th>\n",
       "      <th>Unnamed: 0</th>\n",
       "      <th>Date</th>\n",
       "      <th>AveragePrice</th>\n",
       "      <th>Total Volume</th>\n",
       "      <th>4046</th>\n",
       "      <th>4225</th>\n",
       "      <th>4770</th>\n",
       "      <th>Total Bags</th>\n",
       "      <th>Small Bags</th>\n",
       "      <th>Large Bags</th>\n",
       "      <th>XLarge Bags</th>\n",
       "      <th>type</th>\n",
       "      <th>year</th>\n",
       "      <th>region</th>\n",
       "    </tr>\n",
       "  </thead>\n",
       "  <tbody>\n",
       "    <tr>\n",
       "      <th>0</th>\n",
       "      <td>0</td>\n",
       "      <td>2015-12-27</td>\n",
       "      <td>1.33</td>\n",
       "      <td>64236.62</td>\n",
       "      <td>1036.74</td>\n",
       "      <td>54454.85</td>\n",
       "      <td>48.16</td>\n",
       "      <td>8696.87</td>\n",
       "      <td>8603.62</td>\n",
       "      <td>93.25</td>\n",
       "      <td>0.0</td>\n",
       "      <td>conventional</td>\n",
       "      <td>2015</td>\n",
       "      <td>Albany</td>\n",
       "    </tr>\n",
       "    <tr>\n",
       "      <th>1</th>\n",
       "      <td>1</td>\n",
       "      <td>2015-12-20</td>\n",
       "      <td>1.35</td>\n",
       "      <td>54876.98</td>\n",
       "      <td>674.28</td>\n",
       "      <td>44638.81</td>\n",
       "      <td>58.33</td>\n",
       "      <td>9505.56</td>\n",
       "      <td>9408.07</td>\n",
       "      <td>97.49</td>\n",
       "      <td>0.0</td>\n",
       "      <td>conventional</td>\n",
       "      <td>2015</td>\n",
       "      <td>Albany</td>\n",
       "    </tr>\n",
       "    <tr>\n",
       "      <th>2</th>\n",
       "      <td>2</td>\n",
       "      <td>2015-12-13</td>\n",
       "      <td>0.93</td>\n",
       "      <td>118220.22</td>\n",
       "      <td>794.70</td>\n",
       "      <td>109149.67</td>\n",
       "      <td>130.50</td>\n",
       "      <td>8145.35</td>\n",
       "      <td>8042.21</td>\n",
       "      <td>103.14</td>\n",
       "      <td>0.0</td>\n",
       "      <td>conventional</td>\n",
       "      <td>2015</td>\n",
       "      <td>Albany</td>\n",
       "    </tr>\n",
       "    <tr>\n",
       "      <th>3</th>\n",
       "      <td>3</td>\n",
       "      <td>2015-12-06</td>\n",
       "      <td>1.08</td>\n",
       "      <td>78992.15</td>\n",
       "      <td>1132.00</td>\n",
       "      <td>71976.41</td>\n",
       "      <td>72.58</td>\n",
       "      <td>5811.16</td>\n",
       "      <td>5677.40</td>\n",
       "      <td>133.76</td>\n",
       "      <td>0.0</td>\n",
       "      <td>conventional</td>\n",
       "      <td>2015</td>\n",
       "      <td>Albany</td>\n",
       "    </tr>\n",
       "    <tr>\n",
       "      <th>4</th>\n",
       "      <td>4</td>\n",
       "      <td>2015-11-29</td>\n",
       "      <td>1.28</td>\n",
       "      <td>51039.60</td>\n",
       "      <td>941.48</td>\n",
       "      <td>43838.39</td>\n",
       "      <td>75.78</td>\n",
       "      <td>6183.95</td>\n",
       "      <td>5986.26</td>\n",
       "      <td>197.69</td>\n",
       "      <td>0.0</td>\n",
       "      <td>conventional</td>\n",
       "      <td>2015</td>\n",
       "      <td>Albany</td>\n",
       "    </tr>\n",
       "    <tr>\n",
       "      <th>...</th>\n",
       "      <td>...</td>\n",
       "      <td>...</td>\n",
       "      <td>...</td>\n",
       "      <td>...</td>\n",
       "      <td>...</td>\n",
       "      <td>...</td>\n",
       "      <td>...</td>\n",
       "      <td>...</td>\n",
       "      <td>...</td>\n",
       "      <td>...</td>\n",
       "      <td>...</td>\n",
       "      <td>...</td>\n",
       "      <td>...</td>\n",
       "      <td>...</td>\n",
       "    </tr>\n",
       "    <tr>\n",
       "      <th>18244</th>\n",
       "      <td>7</td>\n",
       "      <td>2018-02-04</td>\n",
       "      <td>1.63</td>\n",
       "      <td>17074.83</td>\n",
       "      <td>2046.96</td>\n",
       "      <td>1529.20</td>\n",
       "      <td>0.00</td>\n",
       "      <td>13498.67</td>\n",
       "      <td>13066.82</td>\n",
       "      <td>431.85</td>\n",
       "      <td>0.0</td>\n",
       "      <td>organic</td>\n",
       "      <td>2018</td>\n",
       "      <td>WestTexNewMexico</td>\n",
       "    </tr>\n",
       "    <tr>\n",
       "      <th>18245</th>\n",
       "      <td>8</td>\n",
       "      <td>2018-01-28</td>\n",
       "      <td>1.71</td>\n",
       "      <td>13888.04</td>\n",
       "      <td>1191.70</td>\n",
       "      <td>3431.50</td>\n",
       "      <td>0.00</td>\n",
       "      <td>9264.84</td>\n",
       "      <td>8940.04</td>\n",
       "      <td>324.80</td>\n",
       "      <td>0.0</td>\n",
       "      <td>organic</td>\n",
       "      <td>2018</td>\n",
       "      <td>WestTexNewMexico</td>\n",
       "    </tr>\n",
       "    <tr>\n",
       "      <th>18246</th>\n",
       "      <td>9</td>\n",
       "      <td>2018-01-21</td>\n",
       "      <td>1.87</td>\n",
       "      <td>13766.76</td>\n",
       "      <td>1191.92</td>\n",
       "      <td>2452.79</td>\n",
       "      <td>727.94</td>\n",
       "      <td>9394.11</td>\n",
       "      <td>9351.80</td>\n",
       "      <td>42.31</td>\n",
       "      <td>0.0</td>\n",
       "      <td>organic</td>\n",
       "      <td>2018</td>\n",
       "      <td>WestTexNewMexico</td>\n",
       "    </tr>\n",
       "    <tr>\n",
       "      <th>18247</th>\n",
       "      <td>10</td>\n",
       "      <td>2018-01-14</td>\n",
       "      <td>1.93</td>\n",
       "      <td>16205.22</td>\n",
       "      <td>1527.63</td>\n",
       "      <td>2981.04</td>\n",
       "      <td>727.01</td>\n",
       "      <td>10969.54</td>\n",
       "      <td>10919.54</td>\n",
       "      <td>50.00</td>\n",
       "      <td>0.0</td>\n",
       "      <td>organic</td>\n",
       "      <td>2018</td>\n",
       "      <td>WestTexNewMexico</td>\n",
       "    </tr>\n",
       "    <tr>\n",
       "      <th>18248</th>\n",
       "      <td>11</td>\n",
       "      <td>2018-01-07</td>\n",
       "      <td>1.62</td>\n",
       "      <td>17489.58</td>\n",
       "      <td>2894.77</td>\n",
       "      <td>2356.13</td>\n",
       "      <td>224.53</td>\n",
       "      <td>12014.15</td>\n",
       "      <td>11988.14</td>\n",
       "      <td>26.01</td>\n",
       "      <td>0.0</td>\n",
       "      <td>organic</td>\n",
       "      <td>2018</td>\n",
       "      <td>WestTexNewMexico</td>\n",
       "    </tr>\n",
       "  </tbody>\n",
       "</table>\n",
       "<p>18249 rows × 14 columns</p>\n",
       "</div>"
      ],
      "text/plain": [
       "       Unnamed: 0        Date  AveragePrice  Total Volume     4046       4225  \\\n",
       "0               0  2015-12-27          1.33      64236.62  1036.74   54454.85   \n",
       "1               1  2015-12-20          1.35      54876.98   674.28   44638.81   \n",
       "2               2  2015-12-13          0.93     118220.22   794.70  109149.67   \n",
       "3               3  2015-12-06          1.08      78992.15  1132.00   71976.41   \n",
       "4               4  2015-11-29          1.28      51039.60   941.48   43838.39   \n",
       "...           ...         ...           ...           ...      ...        ...   \n",
       "18244           7  2018-02-04          1.63      17074.83  2046.96    1529.20   \n",
       "18245           8  2018-01-28          1.71      13888.04  1191.70    3431.50   \n",
       "18246           9  2018-01-21          1.87      13766.76  1191.92    2452.79   \n",
       "18247          10  2018-01-14          1.93      16205.22  1527.63    2981.04   \n",
       "18248          11  2018-01-07          1.62      17489.58  2894.77    2356.13   \n",
       "\n",
       "         4770  Total Bags  Small Bags  Large Bags  XLarge Bags          type  \\\n",
       "0       48.16     8696.87     8603.62       93.25          0.0  conventional   \n",
       "1       58.33     9505.56     9408.07       97.49          0.0  conventional   \n",
       "2      130.50     8145.35     8042.21      103.14          0.0  conventional   \n",
       "3       72.58     5811.16     5677.40      133.76          0.0  conventional   \n",
       "4       75.78     6183.95     5986.26      197.69          0.0  conventional   \n",
       "...       ...         ...         ...         ...          ...           ...   \n",
       "18244    0.00    13498.67    13066.82      431.85          0.0       organic   \n",
       "18245    0.00     9264.84     8940.04      324.80          0.0       organic   \n",
       "18246  727.94     9394.11     9351.80       42.31          0.0       organic   \n",
       "18247  727.01    10969.54    10919.54       50.00          0.0       organic   \n",
       "18248  224.53    12014.15    11988.14       26.01          0.0       organic   \n",
       "\n",
       "       year            region  \n",
       "0      2015            Albany  \n",
       "1      2015            Albany  \n",
       "2      2015            Albany  \n",
       "3      2015            Albany  \n",
       "4      2015            Albany  \n",
       "...     ...               ...  \n",
       "18244  2018  WestTexNewMexico  \n",
       "18245  2018  WestTexNewMexico  \n",
       "18246  2018  WestTexNewMexico  \n",
       "18247  2018  WestTexNewMexico  \n",
       "18248  2018  WestTexNewMexico  \n",
       "\n",
       "[18249 rows x 14 columns]"
      ]
     },
     "execution_count": 3,
     "metadata": {},
     "output_type": "execute_result"
    }
   ],
   "source": [
    "# Pull in dataset - 14 total columns, one is unnamed 0 from pulling in csv and two the instructions said to drop \n",
    "\n",
    "starterdataset = pd.read_csv(\"avocado.csv\")\n",
    "starterdataset"
   ]
  },
  {
   "cell_type": "code",
   "execution_count": 4,
   "id": "4dcb73f5-acf7-4a8b-9cc5-61fce054c340",
   "metadata": {},
   "outputs": [
    {
     "name": "stdout",
     "output_type": "stream",
     "text": [
      "Unnamed: 0      0\n",
      "Date            0\n",
      "AveragePrice    0\n",
      "Total Volume    0\n",
      "4046            0\n",
      "4225            0\n",
      "4770            0\n",
      "Total Bags      0\n",
      "Small Bags      0\n",
      "Large Bags      0\n",
      "XLarge Bags     0\n",
      "type            0\n",
      "year            0\n",
      "region          0\n",
      "dtype: int64\n"
     ]
    }
   ],
   "source": [
    "# Check for missing data\n",
    "nan_count = starterdataset.isna().sum()\n",
    "\n",
    "print(nan_count)"
   ]
  },
  {
   "cell_type": "code",
   "execution_count": 5,
   "id": "d5b087c6-c094-43dd-8337-21c3247b6ab5",
   "metadata": {},
   "outputs": [
    {
     "data": {
      "text/html": [
       "<div>\n",
       "<style scoped>\n",
       "    .dataframe tbody tr th:only-of-type {\n",
       "        vertical-align: middle;\n",
       "    }\n",
       "\n",
       "    .dataframe tbody tr th {\n",
       "        vertical-align: top;\n",
       "    }\n",
       "\n",
       "    .dataframe thead th {\n",
       "        text-align: right;\n",
       "    }\n",
       "</style>\n",
       "<table border=\"1\" class=\"dataframe\">\n",
       "  <thead>\n",
       "    <tr style=\"text-align: right;\">\n",
       "      <th></th>\n",
       "      <th>AveragePrice</th>\n",
       "      <th>Total Volume</th>\n",
       "      <th>4046</th>\n",
       "      <th>4225</th>\n",
       "      <th>4770</th>\n",
       "      <th>Total Bags</th>\n",
       "      <th>Small Bags</th>\n",
       "      <th>Large Bags</th>\n",
       "      <th>XLarge Bags</th>\n",
       "      <th>type</th>\n",
       "      <th>year</th>\n",
       "    </tr>\n",
       "  </thead>\n",
       "  <tbody>\n",
       "    <tr>\n",
       "      <th>0</th>\n",
       "      <td>1.33</td>\n",
       "      <td>64236.62</td>\n",
       "      <td>1036.74</td>\n",
       "      <td>54454.85</td>\n",
       "      <td>48.16</td>\n",
       "      <td>8696.87</td>\n",
       "      <td>8603.62</td>\n",
       "      <td>93.25</td>\n",
       "      <td>0.0</td>\n",
       "      <td>conventional</td>\n",
       "      <td>2015</td>\n",
       "    </tr>\n",
       "    <tr>\n",
       "      <th>1</th>\n",
       "      <td>1.35</td>\n",
       "      <td>54876.98</td>\n",
       "      <td>674.28</td>\n",
       "      <td>44638.81</td>\n",
       "      <td>58.33</td>\n",
       "      <td>9505.56</td>\n",
       "      <td>9408.07</td>\n",
       "      <td>97.49</td>\n",
       "      <td>0.0</td>\n",
       "      <td>conventional</td>\n",
       "      <td>2015</td>\n",
       "    </tr>\n",
       "    <tr>\n",
       "      <th>2</th>\n",
       "      <td>0.93</td>\n",
       "      <td>118220.22</td>\n",
       "      <td>794.70</td>\n",
       "      <td>109149.67</td>\n",
       "      <td>130.50</td>\n",
       "      <td>8145.35</td>\n",
       "      <td>8042.21</td>\n",
       "      <td>103.14</td>\n",
       "      <td>0.0</td>\n",
       "      <td>conventional</td>\n",
       "      <td>2015</td>\n",
       "    </tr>\n",
       "    <tr>\n",
       "      <th>3</th>\n",
       "      <td>1.08</td>\n",
       "      <td>78992.15</td>\n",
       "      <td>1132.00</td>\n",
       "      <td>71976.41</td>\n",
       "      <td>72.58</td>\n",
       "      <td>5811.16</td>\n",
       "      <td>5677.40</td>\n",
       "      <td>133.76</td>\n",
       "      <td>0.0</td>\n",
       "      <td>conventional</td>\n",
       "      <td>2015</td>\n",
       "    </tr>\n",
       "    <tr>\n",
       "      <th>4</th>\n",
       "      <td>1.28</td>\n",
       "      <td>51039.60</td>\n",
       "      <td>941.48</td>\n",
       "      <td>43838.39</td>\n",
       "      <td>75.78</td>\n",
       "      <td>6183.95</td>\n",
       "      <td>5986.26</td>\n",
       "      <td>197.69</td>\n",
       "      <td>0.0</td>\n",
       "      <td>conventional</td>\n",
       "      <td>2015</td>\n",
       "    </tr>\n",
       "  </tbody>\n",
       "</table>\n",
       "</div>"
      ],
      "text/plain": [
       "   AveragePrice  Total Volume     4046       4225    4770  Total Bags  \\\n",
       "0          1.33      64236.62  1036.74   54454.85   48.16     8696.87   \n",
       "1          1.35      54876.98   674.28   44638.81   58.33     9505.56   \n",
       "2          0.93     118220.22   794.70  109149.67  130.50     8145.35   \n",
       "3          1.08      78992.15  1132.00   71976.41   72.58     5811.16   \n",
       "4          1.28      51039.60   941.48   43838.39   75.78     6183.95   \n",
       "\n",
       "   Small Bags  Large Bags  XLarge Bags          type  year  \n",
       "0     8603.62       93.25          0.0  conventional  2015  \n",
       "1     9408.07       97.49          0.0  conventional  2015  \n",
       "2     8042.21      103.14          0.0  conventional  2015  \n",
       "3     5677.40      133.76          0.0  conventional  2015  \n",
       "4     5986.26      197.69          0.0  conventional  2015  "
      ]
     },
     "execution_count": 5,
     "metadata": {},
     "output_type": "execute_result"
    }
   ],
   "source": [
    "# No missing data found\n",
    "#Dropping the three columns mentioned above\n",
    "dataset = starterdataset.drop([\"Unnamed: 0\", \"Date\", \"region\"], axis = 1)\n",
    "dataset.head(5)"
   ]
  },
  {
   "cell_type": "markdown",
   "id": "aad155a2-190a-4310-9206-15fc98ab86a9",
   "metadata": {},
   "source": [
    " 4046 \t4225 \t4770 \tare different PLU codes, type is organic vs regular.\n",
    " I feel that the we need to decide what we are going to target to learn so to speak.\n",
    "\n",
    " The important thing that we are comparing I believe is the price - so for example do people buy more organic or non organic, small bags or large bags or XLarge?  I think we can drop total bags as we want to use small and large for comparison, also total volume.  At first I thought PLU might not be important but it does look like at cursury glance possibly PLU 4225 is much more popular so let's keep them to compare first.\n",
    "\n",
    " Maybe we should compare just the price and PLU first to see if we could drop 4046 and 4770, and let's see whether we need year or not?  "
   ]
  },
  {
   "cell_type": "code",
   "execution_count": 6,
   "id": "ebb2f0f8-13b8-4965-af5e-b82e9d4042a4",
   "metadata": {},
   "outputs": [
    {
     "data": {
      "text/html": [
       "<div>\n",
       "<style scoped>\n",
       "    .dataframe tbody tr th:only-of-type {\n",
       "        vertical-align: middle;\n",
       "    }\n",
       "\n",
       "    .dataframe tbody tr th {\n",
       "        vertical-align: top;\n",
       "    }\n",
       "\n",
       "    .dataframe thead th {\n",
       "        text-align: right;\n",
       "    }\n",
       "</style>\n",
       "<table border=\"1\" class=\"dataframe\">\n",
       "  <thead>\n",
       "    <tr style=\"text-align: right;\">\n",
       "      <th></th>\n",
       "      <th>AveragePrice</th>\n",
       "      <th>4046</th>\n",
       "      <th>4225</th>\n",
       "      <th>4770</th>\n",
       "    </tr>\n",
       "  </thead>\n",
       "  <tbody>\n",
       "    <tr>\n",
       "      <th>0</th>\n",
       "      <td>1.33</td>\n",
       "      <td>1036.74</td>\n",
       "      <td>54454.85</td>\n",
       "      <td>48.16</td>\n",
       "    </tr>\n",
       "    <tr>\n",
       "      <th>1</th>\n",
       "      <td>1.35</td>\n",
       "      <td>674.28</td>\n",
       "      <td>44638.81</td>\n",
       "      <td>58.33</td>\n",
       "    </tr>\n",
       "    <tr>\n",
       "      <th>2</th>\n",
       "      <td>0.93</td>\n",
       "      <td>794.70</td>\n",
       "      <td>109149.67</td>\n",
       "      <td>130.50</td>\n",
       "    </tr>\n",
       "    <tr>\n",
       "      <th>3</th>\n",
       "      <td>1.08</td>\n",
       "      <td>1132.00</td>\n",
       "      <td>71976.41</td>\n",
       "      <td>72.58</td>\n",
       "    </tr>\n",
       "    <tr>\n",
       "      <th>4</th>\n",
       "      <td>1.28</td>\n",
       "      <td>941.48</td>\n",
       "      <td>43838.39</td>\n",
       "      <td>75.78</td>\n",
       "    </tr>\n",
       "  </tbody>\n",
       "</table>\n",
       "</div>"
      ],
      "text/plain": [
       "   AveragePrice     4046       4225    4770\n",
       "0          1.33  1036.74   54454.85   48.16\n",
       "1          1.35   674.28   44638.81   58.33\n",
       "2          0.93   794.70  109149.67  130.50\n",
       "3          1.08  1132.00   71976.41   72.58\n",
       "4          1.28   941.48   43838.39   75.78"
      ]
     },
     "execution_count": 6,
     "metadata": {},
     "output_type": "execute_result"
    }
   ],
   "source": [
    "pludataset = dataset.drop([\"Total Volume\", \"Total Bags\", \"Small Bags\",\"Large Bags\", \"XLarge Bags\", \"type\", \"year\"], axis = 1)\n",
    "pludataset.head(5)"
   ]
  },
  {
   "cell_type": "code",
   "execution_count": 7,
   "id": "20897dbc-ac8f-480b-b716-ce7a62dceb08",
   "metadata": {},
   "outputs": [
    {
     "data": {
      "image/png": "[encoded data removed]",
      "text/plain": [
       "<Figure size 640x480 with 1 Axes>"
      ]
     },
     "metadata": {},
     "output_type": "display_data"
    }
   ],
   "source": [
    "# What does 1e7 mean in the below figure? Question for Nicole\n",
    "\n",
    "plt.scatter(x=pludataset[\"AveragePrice\"], y = pludataset[\"4046\"])\n",
    "plt.scatter(x=pludataset[\"AveragePrice\"], y = pludataset[\"4225\"])\n",
    "plt.scatter(x=pludataset[\"AveragePrice\"], y = pludataset[\"4770\"])\n",
    "classes = ['4046', '4225', '4770']\n",
    "plt.legend(labels=classes)\n",
    "plt.title(\"Prices of Each PLU\", size = 10)\n",
    "plt.xlabel(\"Price\")\n",
    "plt.ylabel(\"PLU\")\n",
    "\n",
    "plt.show()"
   ]
  },
  {
   "cell_type": "code",
   "execution_count": 8,
   "id": "9df8345f-be7f-4d23-bf41-58a5013cb8d7",
   "metadata": {},
   "outputs": [
    {
     "name": "stdout",
     "output_type": "stream",
     "text": [
      "5347110739.26\n",
      "5386275717.93\n",
      "416802342.12999994\n"
     ]
    }
   ],
   "source": [
    "# and let's get a sum of how many of each PLU also here maybe to see if it's worth comparing all 3 plu's\n",
    "Total_4046 = pludataset['4046'].sum()\n",
    "print(Total_4046)\n",
    "Total_4225 = pludataset['4225'].sum()\n",
    "print(Total_4225)\n",
    "Total_4770 = pludataset['4770'].sum()\n",
    "print(Total_4770)"
   ]
  },
  {
   "cell_type": "code",
   "execution_count": 9,
   "id": "3a61c01d-e814-41af-9e85-2069eb3d8eb6",
   "metadata": {},
   "outputs": [
    {
     "data": {
      "image/png": "[encoded data removed]",
      "text/plain": [
       "<Figure size 600x600 with 1 Axes>"
      ]
     },
     "metadata": {},
     "output_type": "display_data"
    }
   ],
   "source": [
    "#let's see that in a pie chart to see it in comparison as i'm not sure from this with such large numbers if 4770 is significant\n",
    "data = [Total_4046, Total_4225, Total_4770] # my data for the chart\n",
    "labels = ['4046', '4225', '4770'] # Labels for each slice\n",
    "\n",
    "sns.set_style(\"whitegrid\") # Set style for chart\n",
    "plt.figure(figsize=(6,6)) # Set figure size\n",
    "plt.pie(data, labels=labels) # Create pie chart\n",
    "plt.legend(labels=labels)\n",
    "plt.title('Avocado sold by PLU')\n",
    "plt.show() # Show chart"
   ]
  },
  {
   "cell_type": "code",
   "execution_count": 10,
   "id": "7134c616-413c-444a-b283-11fc8000bcf0",
   "metadata": {},
   "outputs": [
    {
     "data": {
      "image/png": "[encoded data removed]",
      "text/plain": [
       "<Figure size 640x480 with 1 Axes>"
      ]
     },
     "metadata": {},
     "output_type": "display_data"
    }
   ],
   "source": [
    "#So considerably less 4770 may not need to use it, we can see the 4225 and 4046 go the same price range if we unlayer for example\n",
    "plt.scatter(x=pludataset[\"AveragePrice\"], y = pludataset[\"4046\"])\n",
    "plt.scatter(x=pludataset[\"AveragePrice\"], y = pludataset[\"4225\"])\n",
    "classes = ['4046', '4225',]\n",
    "plt.legend(labels=classes)\n",
    "plt.title(\"Prices of Each PLU\", size = 10)\n",
    "plt.xlabel(\"Price\")\n",
    "plt.ylabel(\"PLU\")\n",
    "\n",
    "plt.show()"
   ]
  },
  {
   "cell_type": "code",
   "execution_count": 11,
   "id": "8d4e17c7-6fd1-45db-a68e-72ccdc36f199",
   "metadata": {},
   "outputs": [
    {
     "data": {
      "image/png": "[encoded data removed]",
      "text/plain": [
       "<Figure size 640x480 with 1 Axes>"
      ]
     },
     "metadata": {},
     "output_type": "display_data"
    }
   ],
   "source": [
    "plt.scatter(x=pludataset[\"AveragePrice\"], y = pludataset[\"4046\"])\n",
    "#plt.scatter(x=pludataset[\"AveragePrice\"], y = pludataset[\"4225\"])\n",
    "classes = ['4046', ]\n",
    "plt.legend(labels=classes)\n",
    "plt.title(\"Prices of Each PLU\", size = 10)\n",
    "plt.xlabel(\"Price\")\n",
    "plt.ylabel(\"PLU\")\n",
    "\n",
    "plt.show()"
   ]
  },
  {
   "cell_type": "code",
   "execution_count": 12,
   "id": "b09df192-2ccb-4dc0-bd6b-2e5ea3a3e753",
   "metadata": {},
   "outputs": [],
   "source": [
    "#but the number sold is so many less so let's not use that plu in the model\n",
    "#Next let's check if year made a big difference in volume sold, if not we don't need it either\n"
   ]
  },
  {
   "cell_type": "code",
   "execution_count": 13,
   "id": "cf203ff7-47a8-4ed7-9120-0725a4d8a09a",
   "metadata": {},
   "outputs": [
    {
     "data": {
      "text/html": [
       "<div>\n",
       "<style scoped>\n",
       "    .dataframe tbody tr th:only-of-type {\n",
       "        vertical-align: middle;\n",
       "    }\n",
       "\n",
       "    .dataframe tbody tr th {\n",
       "        vertical-align: top;\n",
       "    }\n",
       "\n",
       "    .dataframe thead th {\n",
       "        text-align: right;\n",
       "    }\n",
       "</style>\n",
       "<table border=\"1\" class=\"dataframe\">\n",
       "  <thead>\n",
       "    <tr style=\"text-align: right;\">\n",
       "      <th></th>\n",
       "      <th>Total Volume</th>\n",
       "      <th>year</th>\n",
       "    </tr>\n",
       "  </thead>\n",
       "  <tbody>\n",
       "    <tr>\n",
       "      <th>0</th>\n",
       "      <td>64236.62</td>\n",
       "      <td>2015</td>\n",
       "    </tr>\n",
       "    <tr>\n",
       "      <th>1</th>\n",
       "      <td>54876.98</td>\n",
       "      <td>2015</td>\n",
       "    </tr>\n",
       "    <tr>\n",
       "      <th>2</th>\n",
       "      <td>118220.22</td>\n",
       "      <td>2015</td>\n",
       "    </tr>\n",
       "    <tr>\n",
       "      <th>3</th>\n",
       "      <td>78992.15</td>\n",
       "      <td>2015</td>\n",
       "    </tr>\n",
       "    <tr>\n",
       "      <th>4</th>\n",
       "      <td>51039.60</td>\n",
       "      <td>2015</td>\n",
       "    </tr>\n",
       "  </tbody>\n",
       "</table>\n",
       "</div>"
      ],
      "text/plain": [
       "   Total Volume  year\n",
       "0      64236.62  2015\n",
       "1      54876.98  2015\n",
       "2     118220.22  2015\n",
       "3      78992.15  2015\n",
       "4      51039.60  2015"
      ]
     },
     "execution_count": 13,
     "metadata": {},
     "output_type": "execute_result"
    }
   ],
   "source": [
    "vol_dataset = dataset.drop([\"AveragePrice\", \"Total Bags\", \"Small Bags\",\"Large Bags\", \"XLarge Bags\", \"type\", \"4046\", \"4770\", \"4225\"], axis = 1)\n",
    "vol_dataset.head(5)"
   ]
  },
  {
   "cell_type": "code",
   "execution_count": 14,
   "id": "50317afe-5244-4668-a629-39c81f679cd6",
   "metadata": {},
   "outputs": [
    {
     "data": {
      "image/png": "[encoded data removed]",
      "text/plain": [
       "<Figure size 640x480 with 1 Axes>"
      ]
     },
     "metadata": {},
     "output_type": "display_data"
    }
   ],
   "source": [
    "plt.scatter(x=vol_dataset[\"Total Volume\"], y = vol_dataset[\"year\"])\n",
    "plt.title(\"Volume of Avocado sold per Year\", size = 10)\n",
    "plt.xlabel(\"Total Volume\")\n",
    "plt.ylabel(\"Year\")\n",
    "\n",
    "plt.show()"
   ]
  },
  {
   "cell_type": "code",
   "execution_count": 15,
   "id": "c0241570-9914-4134-bd7b-3a6636e62de1",
   "metadata": {},
   "outputs": [
    {
     "data": {
      "text/plain": [
       "array([2015, 2016, 2017, 2018], dtype=int64)"
      ]
     },
     "execution_count": 15,
     "metadata": {},
     "output_type": "execute_result"
    }
   ],
   "source": [
    "dataset['year'].unique()"
   ]
  },
  {
   "cell_type": "code",
   "execution_count": 16,
   "id": "9172a2ba-0e30-4642-b192-96ed7c26d896",
   "metadata": {},
   "outputs": [
    {
     "name": "stdout",
     "output_type": "stream",
     "text": [
      "<class 'pandas.core.series.Series'>\n"
     ]
    },
    {
     "data": {
      "image/png": "[encoded data removed]",
      "text/plain": [
       "<Figure size 640x480 with 1 Axes>"
      ]
     },
     "metadata": {},
     "output_type": "display_data"
    }
   ],
   "source": [
    "# I think this would look better as a bar graph actually.\n",
    "df_groups = dataset.groupby(['year'])['Total Volume'].sum()\n",
    "plt.title(\"Volume  per Year\", size = 10)\n",
    "#create bar plot by group\n",
    "df_groups.plot(kind='bar')\n",
    "print(type(df_groups))"
   ]
  },
  {
   "cell_type": "code",
   "execution_count": 17,
   "id": "2390bdc0-8e8d-41d5-8fd2-6c2c005b2fe5",
   "metadata": {},
   "outputs": [
    {
     "data": {
      "text/plain": [
       "year\n",
       "2015    4.385469e+09\n",
       "2016    4.820890e+09\n",
       "2017    4.934306e+09\n",
       "2018    1.382738e+09\n",
       "Name: Total Volume, dtype: float64"
      ]
     },
     "execution_count": 17,
     "metadata": {},
     "output_type": "execute_result"
    }
   ],
   "source": [
    "df_groups"
   ]
  },
  {
   "cell_type": "code",
   "execution_count": 18,
   "id": "1c4ca7b5-0e57-435c-adb7-0729a8d8df12",
   "metadata": {},
   "outputs": [],
   "source": [
    "# This cell is for my reference in the future. Disregard!\n",
    "\n",
    "#different way of doing bar plot if i first did a count of the values and then listed them for example\n",
    "\n",
    "#volume = [250000,  500000,  750000,  1000000] \n",
    "#vol_dataset = pd.DataFrame({'year':['2015', '2016', '2017', '2018'], 'Total Volume':volume})\n",
    "\n",
    "#ax = vol_dataset.plot.bar(x='year', y='Total Volume', rot=0)\n",
    "\n",
    "#df = pd.DataFrame({'lab':['A', 'B', 'C'], 'val':[10, 30, 20]})"
   ]
  },
  {
   "cell_type": "markdown",
   "id": "08125752-fea2-49b2-8990-2ecc1b2c9369",
   "metadata": {},
   "source": [
    "In the end I decided to drop 4770 as it was such a small amount compared to the others and had a similar price range as both the others\n",
    " So what I thought i'd keep was the price as what we want to see in the final model is what bag sizes are sold most with the best price\n",
    " and organic or conventional, and finally whether the price/size of bag bought is different between the two largely purchased plu's"
   ]
  },
  {
   "cell_type": "code",
   "execution_count": 19,
   "id": "d0c948ca-8bcc-42d9-a0be-be141d367f3c",
   "metadata": {},
   "outputs": [
    {
     "data": {
      "text/html": [
       "<div>\n",
       "<style scoped>\n",
       "    .dataframe tbody tr th:only-of-type {\n",
       "        vertical-align: middle;\n",
       "    }\n",
       "\n",
       "    .dataframe tbody tr th {\n",
       "        vertical-align: top;\n",
       "    }\n",
       "\n",
       "    .dataframe thead th {\n",
       "        text-align: right;\n",
       "    }\n",
       "</style>\n",
       "<table border=\"1\" class=\"dataframe\">\n",
       "  <thead>\n",
       "    <tr style=\"text-align: right;\">\n",
       "      <th></th>\n",
       "      <th>AveragePrice</th>\n",
       "      <th>4046</th>\n",
       "      <th>4225</th>\n",
       "      <th>Small Bags</th>\n",
       "      <th>Large Bags</th>\n",
       "      <th>XLarge Bags</th>\n",
       "      <th>type</th>\n",
       "    </tr>\n",
       "  </thead>\n",
       "  <tbody>\n",
       "    <tr>\n",
       "      <th>0</th>\n",
       "      <td>1.33</td>\n",
       "      <td>1036.74</td>\n",
       "      <td>54454.85</td>\n",
       "      <td>8603.62</td>\n",
       "      <td>93.25</td>\n",
       "      <td>0.0</td>\n",
       "      <td>conventional</td>\n",
       "    </tr>\n",
       "    <tr>\n",
       "      <th>1</th>\n",
       "      <td>1.35</td>\n",
       "      <td>674.28</td>\n",
       "      <td>44638.81</td>\n",
       "      <td>9408.07</td>\n",
       "      <td>97.49</td>\n",
       "      <td>0.0</td>\n",
       "      <td>conventional</td>\n",
       "    </tr>\n",
       "    <tr>\n",
       "      <th>2</th>\n",
       "      <td>0.93</td>\n",
       "      <td>794.70</td>\n",
       "      <td>109149.67</td>\n",
       "      <td>8042.21</td>\n",
       "      <td>103.14</td>\n",
       "      <td>0.0</td>\n",
       "      <td>conventional</td>\n",
       "    </tr>\n",
       "    <tr>\n",
       "      <th>3</th>\n",
       "      <td>1.08</td>\n",
       "      <td>1132.00</td>\n",
       "      <td>71976.41</td>\n",
       "      <td>5677.40</td>\n",
       "      <td>133.76</td>\n",
       "      <td>0.0</td>\n",
       "      <td>conventional</td>\n",
       "    </tr>\n",
       "    <tr>\n",
       "      <th>4</th>\n",
       "      <td>1.28</td>\n",
       "      <td>941.48</td>\n",
       "      <td>43838.39</td>\n",
       "      <td>5986.26</td>\n",
       "      <td>197.69</td>\n",
       "      <td>0.0</td>\n",
       "      <td>conventional</td>\n",
       "    </tr>\n",
       "  </tbody>\n",
       "</table>\n",
       "</div>"
      ],
      "text/plain": [
       "   AveragePrice     4046       4225  Small Bags  Large Bags  XLarge Bags  \\\n",
       "0          1.33  1036.74   54454.85     8603.62       93.25          0.0   \n",
       "1          1.35   674.28   44638.81     9408.07       97.49          0.0   \n",
       "2          0.93   794.70  109149.67     8042.21      103.14          0.0   \n",
       "3          1.08  1132.00   71976.41     5677.40      133.76          0.0   \n",
       "4          1.28   941.48   43838.39     5986.26      197.69          0.0   \n",
       "\n",
       "           type  \n",
       "0  conventional  \n",
       "1  conventional  \n",
       "2  conventional  \n",
       "3  conventional  \n",
       "4  conventional  "
      ]
     },
     "execution_count": 19,
     "metadata": {},
     "output_type": "execute_result"
    }
   ],
   "source": [
    "\n",
    "dataset = dataset.drop([\"Total Volume\", \"Total Bags\", \"4770\", \"year\"], axis = 1)\n",
    "dataset.head(5)"
   ]
  },
  {
   "cell_type": "code",
   "execution_count": 20,
   "id": "ee857963-8d57-452f-9790-3fe9f996b7e0",
   "metadata": {},
   "outputs": [
    {
     "data": {
      "text/html": [
       "<div>\n",
       "<style scoped>\n",
       "    .dataframe tbody tr th:only-of-type {\n",
       "        vertical-align: middle;\n",
       "    }\n",
       "\n",
       "    .dataframe tbody tr th {\n",
       "        vertical-align: top;\n",
       "    }\n",
       "\n",
       "    .dataframe thead th {\n",
       "        text-align: right;\n",
       "    }\n",
       "</style>\n",
       "<table border=\"1\" class=\"dataframe\">\n",
       "  <thead>\n",
       "    <tr style=\"text-align: right;\">\n",
       "      <th></th>\n",
       "      <th>AveragePrice</th>\n",
       "      <th>4046</th>\n",
       "      <th>4225</th>\n",
       "      <th>Small Bags</th>\n",
       "      <th>Large Bags</th>\n",
       "      <th>XLarge Bags</th>\n",
       "      <th>type</th>\n",
       "    </tr>\n",
       "  </thead>\n",
       "  <tbody>\n",
       "    <tr>\n",
       "      <th>0</th>\n",
       "      <td>1.33</td>\n",
       "      <td>1036.74</td>\n",
       "      <td>54454.85</td>\n",
       "      <td>8603.62</td>\n",
       "      <td>93.25</td>\n",
       "      <td>0.0</td>\n",
       "      <td>0</td>\n",
       "    </tr>\n",
       "    <tr>\n",
       "      <th>1</th>\n",
       "      <td>1.35</td>\n",
       "      <td>674.28</td>\n",
       "      <td>44638.81</td>\n",
       "      <td>9408.07</td>\n",
       "      <td>97.49</td>\n",
       "      <td>0.0</td>\n",
       "      <td>0</td>\n",
       "    </tr>\n",
       "    <tr>\n",
       "      <th>2</th>\n",
       "      <td>0.93</td>\n",
       "      <td>794.70</td>\n",
       "      <td>109149.67</td>\n",
       "      <td>8042.21</td>\n",
       "      <td>103.14</td>\n",
       "      <td>0.0</td>\n",
       "      <td>0</td>\n",
       "    </tr>\n",
       "    <tr>\n",
       "      <th>3</th>\n",
       "      <td>1.08</td>\n",
       "      <td>1132.00</td>\n",
       "      <td>71976.41</td>\n",
       "      <td>5677.40</td>\n",
       "      <td>133.76</td>\n",
       "      <td>0.0</td>\n",
       "      <td>0</td>\n",
       "    </tr>\n",
       "    <tr>\n",
       "      <th>4</th>\n",
       "      <td>1.28</td>\n",
       "      <td>941.48</td>\n",
       "      <td>43838.39</td>\n",
       "      <td>5986.26</td>\n",
       "      <td>197.69</td>\n",
       "      <td>0.0</td>\n",
       "      <td>0</td>\n",
       "    </tr>\n",
       "  </tbody>\n",
       "</table>\n",
       "</div>"
      ],
      "text/plain": [
       "   AveragePrice     4046       4225  Small Bags  Large Bags  XLarge Bags type\n",
       "0          1.33  1036.74   54454.85     8603.62       93.25          0.0    0\n",
       "1          1.35   674.28   44638.81     9408.07       97.49          0.0    0\n",
       "2          0.93   794.70  109149.67     8042.21      103.14          0.0    0\n",
       "3          1.08  1132.00   71976.41     5677.40      133.76          0.0    0\n",
       "4          1.28   941.48   43838.39     5986.26      197.69          0.0    0"
      ]
     },
     "execution_count": 20,
     "metadata": {},
     "output_type": "execute_result"
    }
   ],
   "source": [
    "#only one feature to encode with only 2 values so i'll use the label encoder\n",
    "dataset.loc[:, 'type'] = enc.fit_transform(dataset['type'])\n",
    "dataset.head(5)"
   ]
  },
  {
   "cell_type": "code",
   "execution_count": 21,
   "id": "b36ae0b2-c40e-4086-81ac-af4d56bff30c",
   "metadata": {},
   "outputs": [
    {
     "data": {
      "text/plain": [
       "['AveragePrice',\n",
       " '4046',\n",
       " '4225',\n",
       " 'Small Bags',\n",
       " 'Large Bags',\n",
       " 'XLarge Bags',\n",
       " 'type']"
      ]
     },
     "execution_count": 21,
     "metadata": {},
     "output_type": "execute_result"
    }
   ],
   "source": [
    "list(dataset.columns.values)"
   ]
  },
  {
   "cell_type": "code",
   "execution_count": 22,
   "id": "57cbe417-b541-4d08-ad54-c35941cc59fc",
   "metadata": {},
   "outputs": [
    {
     "data": {
      "text/html": [
       "<div>\n",
       "<style scoped>\n",
       "    .dataframe tbody tr th:only-of-type {\n",
       "        vertical-align: middle;\n",
       "    }\n",
       "\n",
       "    .dataframe tbody tr th {\n",
       "        vertical-align: top;\n",
       "    }\n",
       "\n",
       "    .dataframe thead th {\n",
       "        text-align: right;\n",
       "    }\n",
       "</style>\n",
       "<table border=\"1\" class=\"dataframe\">\n",
       "  <thead>\n",
       "    <tr style=\"text-align: right;\">\n",
       "      <th></th>\n",
       "      <th>AveragePrice</th>\n",
       "      <th>4046</th>\n",
       "      <th>4225</th>\n",
       "      <th>Small Bags</th>\n",
       "      <th>Large Bags</th>\n",
       "      <th>XLarge Bags</th>\n",
       "      <th>type</th>\n",
       "    </tr>\n",
       "  </thead>\n",
       "  <tbody>\n",
       "    <tr>\n",
       "      <th>0</th>\n",
       "      <td>1.33</td>\n",
       "      <td>-0.230816</td>\n",
       "      <td>-0.199902</td>\n",
       "      <td>-0.232647</td>\n",
       "      <td>-0.222352</td>\n",
       "      <td>-0.17558</td>\n",
       "      <td>-0.999836</td>\n",
       "    </tr>\n",
       "    <tr>\n",
       "      <th>1</th>\n",
       "      <td>1.35</td>\n",
       "      <td>-0.231103</td>\n",
       "      <td>-0.208054</td>\n",
       "      <td>-0.231568</td>\n",
       "      <td>-0.222335</td>\n",
       "      <td>-0.17558</td>\n",
       "      <td>-0.999836</td>\n",
       "    </tr>\n",
       "    <tr>\n",
       "      <th>2</th>\n",
       "      <td>0.93</td>\n",
       "      <td>-0.231007</td>\n",
       "      <td>-0.154478</td>\n",
       "      <td>-0.233399</td>\n",
       "      <td>-0.222311</td>\n",
       "      <td>-0.17558</td>\n",
       "      <td>-0.999836</td>\n",
       "    </tr>\n",
       "    <tr>\n",
       "      <th>3</th>\n",
       "      <td>1.08</td>\n",
       "      <td>-0.230741</td>\n",
       "      <td>-0.185350</td>\n",
       "      <td>-0.236568</td>\n",
       "      <td>-0.222186</td>\n",
       "      <td>-0.17558</td>\n",
       "      <td>-0.999836</td>\n",
       "    </tr>\n",
       "    <tr>\n",
       "      <th>4</th>\n",
       "      <td>1.28</td>\n",
       "      <td>-0.230891</td>\n",
       "      <td>-0.208719</td>\n",
       "      <td>-0.236154</td>\n",
       "      <td>-0.221924</td>\n",
       "      <td>-0.17558</td>\n",
       "      <td>-0.999836</td>\n",
       "    </tr>\n",
       "  </tbody>\n",
       "</table>\n",
       "</div>"
      ],
      "text/plain": [
       "   AveragePrice      4046      4225  Small Bags  Large Bags  XLarge Bags  \\\n",
       "0          1.33 -0.230816 -0.199902   -0.232647   -0.222352     -0.17558   \n",
       "1          1.35 -0.231103 -0.208054   -0.231568   -0.222335     -0.17558   \n",
       "2          0.93 -0.231007 -0.154478   -0.233399   -0.222311     -0.17558   \n",
       "3          1.08 -0.230741 -0.185350   -0.236568   -0.222186     -0.17558   \n",
       "4          1.28 -0.230891 -0.208719   -0.236154   -0.221924     -0.17558   \n",
       "\n",
       "       type  \n",
       "0 -0.999836  \n",
       "1 -0.999836  \n",
       "2 -0.999836  \n",
       "3 -0.999836  \n",
       "4 -0.999836  "
      ]
     },
     "execution_count": 22,
     "metadata": {},
     "output_type": "execute_result"
    }
   ],
   "source": [
    "# now to scale\n",
    "dataset[['4046',\n",
    " '4225',\n",
    " 'Small Bags',\n",
    " 'Large Bags',\n",
    " 'XLarge Bags',\n",
    " 'type']] = scaler.fit_transform(dataset[['4046',\n",
    " '4225',\n",
    " 'Small Bags',\n",
    " 'Large Bags',\n",
    " 'XLarge Bags',\n",
    " 'type']])\n",
    "dataset.head(5)"
   ]
  },
  {
   "cell_type": "code",
   "execution_count": 23,
   "id": "d4d1652d-acb3-4fce-ad2b-1a1c8ab478b6",
   "metadata": {},
   "outputs": [
    {
     "name": "stdout",
     "output_type": "stream",
     "text": [
      "14599 3650\n"
     ]
    }
   ],
   "source": [
    "# and then train/test/split\n",
    "encoded_y = dataset.iloc[:, 0].values\n",
    "encoded_x = dataset.iloc[:, 1:7].values\n",
    "\n",
    "# train is now 80% of the entire data set\n",
    "X_train, X_test, y_train, y_test = train_test_split(encoded_x, encoded_y, test_size=0.2)\n",
    "\n",
    "print(len(X_train), len(X_test))\n",
    "# test is now 10% of the initial data set\n",
    "# validation is now 10% of the initial data set\n",
    "X_val, X_test, y_val, y_test = train_test_split(X_test, y_test, test_size=.5) \n",
    "\n",
    "# uncomment to see if you want below, just tidying\n",
    "#print(len(X_train), len(X_val), len(X_test))"
   ]
  },
  {
   "cell_type": "code",
   "execution_count": 24,
   "id": "abaccd3c-937e-4e07-8f84-f0bdd00c286d",
   "metadata": {},
   "outputs": [
    {
     "name": "stdout",
     "output_type": "stream",
     "text": [
      "14599 1825 1825\n"
     ]
    }
   ],
   "source": [
    "# uncomment to see if you want below, just tidying\n",
    "print(len(X_train), len(X_val), len(X_test))"
   ]
  },
  {
   "cell_type": "code",
   "execution_count": 25,
   "id": "926af18a-a94b-447a-bd46-f6246c08e020",
   "metadata": {},
   "outputs": [
    {
     "name": "stdout",
     "output_type": "stream",
     "text": [
      "{1: 0.4904988300456047, 2: 0.5995591971442849, 3: 0.6205439943926754, 4: 0.6292940401821514, 5: 0.6403826703203377, 6: 0.6507771833156744, 7: 0.6550366738298998, 8: 0.6557700497034775, 9: 0.6589895144951239, 10: 0.6596091084272587, 11: 0.6635694617743636, 12: 0.6616527799125778, 13: 0.6608535151563293, 14: 0.6580526416748187, 15: 0.6578101762138033, 16: 0.6580171351556381, 17: 0.6562594288969001, 18: 0.656586417067311, 19: 0.6566283446959595, 20: 0.6552713124352371, 21: 0.6534782154738344, 22: 0.6503517459972665, 23: 0.6494047988412057, 24: 0.6478971950934123, 25: 0.6462928899397409}\n",
      "[0.4904988300456047, 0.5995591971442849, 0.6205439943926754, 0.6292940401821514, 0.6403826703203377, 0.6507771833156744, 0.6550366738298998, 0.6557700497034775, 0.6589895144951239, 0.6596091084272587, 0.6635694617743636, 0.6616527799125778, 0.6608535151563293, 0.6580526416748187, 0.6578101762138033, 0.6580171351556381, 0.6562594288969001, 0.656586417067311, 0.6566283446959595, 0.6552713124352371, 0.6534782154738344, 0.6503517459972665, 0.6494047988412057, 0.6478971950934123, 0.6462928899397409]\n",
      "0.6635694617743636\n",
      "11\n"
     ]
    }
   ],
   "source": [
    "#find the best KNN neighbour for regression\n",
    "train_score = {}\n",
    "test_score = {}\n",
    "scores = []\n",
    "nums = np.arange(1,26)\n",
    "best_knn = []\n",
    "best_score_i = -1000\n",
    "\n",
    "for i in nums:\n",
    "    knn = KNeighborsRegressor(n_neighbors = i)\n",
    "    knn.fit(X_train, y_train)\n",
    "    score_i = knn.score(X_test, y_test)\n",
    "    scores.append(score_i)\n",
    "    train_score[i]=knn.score(X_train, y_train)\n",
    "    test_score[i]=knn.score(X_test, y_test)\n",
    "    \n",
    "    if score_i > best_score_i:\n",
    "        best_score_i = score_i\n",
    "        best_knn = i\n",
    "\n",
    "print(test_score)\n",
    "print(scores)\n",
    "print(best_score_i)\n",
    "print(best_knn)"
   ]
  },
  {
   "cell_type": "code",
   "execution_count": null,
   "id": "7f44ee21-5dda-43ff-a603-7ab4d83b3ec9",
   "metadata": {},
   "outputs": [],
   "source": [
    "\n"
   ]
  },
  {
   "cell_type": "code",
   "execution_count": 26,
   "id": "0378c393-ce89-42b0-a8fe-0e0b79128154",
   "metadata": {},
   "outputs": [
    {
     "data": {
      "image/png": "[encoded data removed]",
      "text/plain": [
       "<Figure size 640x480 with 1 Axes>"
      ]
     },
     "metadata": {},
     "output_type": "display_data"
    }
   ],
   "source": [
    "#Visualize train and test\n",
    "\n",
    "# And then it looks like it's comparing?\n",
    "plt.plot(nums, train_score.values(), label=\"Train Accuracy\")\n",
    "plt.plot(nums, test_score.values(), label=\"Test Accuracy\")\n",
    "plt.xlabel(\"Number Of Neighbors\")\n",
    "plt.ylabel(\"Accuracy\")\n",
    "plt.title(\"KNN Regressor: Varying number of Neighbors\")\n",
    "plt.legend()\n",
    "plt.xlim(0, 33)\n",
    "plt.ylim(0.60, 0.90)\n",
    "plt.grid()\n",
    "plt.show()"
   ]
  },
  {
   "cell_type": "code",
   "execution_count": 27,
   "id": "bf6ec7db-b3ad-4fa1-b38c-2339d7a969d2",
   "metadata": {},
   "outputs": [
    {
     "name": "stdout",
     "output_type": "stream",
     "text": [
      "[0.4904988300456047, 0.5995591971442849, 0.6205439943926754, 0.6292940401821514, 0.6403826703203377, 0.6507771833156744, 0.6550366738298998, 0.6557700497034775, 0.6589895144951239, 0.6596091084272587, 0.6635694617743636, 0.6616527799125778, 0.6608535151563293, 0.6580526416748187, 0.6578101762138033, 0.6580171351556381, 0.6562594288969001, 0.656586417067311, 0.6566283446959595, 0.6552713124352371, 0.6534782154738344, 0.6503517459972665, 0.6494047988412057, 0.6478971950934123, 0.6462928899397409]\n",
      "0.6635694617743636 11\n"
     ]
    }
   ],
   "source": [
    "print(scores)\n",
    "\n",
    "knn_val = max(scores)\n",
    "best_knn = scores.index(knn_val) + 1\n",
    "print(knn_val,best_knn)"
   ]
  },
  {
   "cell_type": "code",
   "execution_count": 28,
   "id": "f7fb257b-0301-43b8-9a23-c8b2d3dc777a",
   "metadata": {},
   "outputs": [
    {
     "data": {
      "text/plain": [
       "<matplotlib.collections.PathCollection at 0x203d6390810>"
      ]
     },
     "execution_count": 28,
     "metadata": {},
     "output_type": "execute_result"
    },
    {
     "data": {
      "image/png": "[encoded data removed]",
      "text/plain": [
       "<Figure size 640x480 with 1 Axes>"
      ]
     },
     "metadata": {},
     "output_type": "display_data"
    }
   ],
   "source": [
    "plt.scatter(nums, scores, color = 'magenta')"
   ]
  },
  {
   "cell_type": "code",
   "execution_count": 29,
   "id": "9293d059-da58-41f6-b3b9-4418cdad3c93",
   "metadata": {},
   "outputs": [
    {
     "data": {
      "text/plain": [
       "0.6550366738298998"
      ]
     },
     "execution_count": 29,
     "metadata": {},
     "output_type": "execute_result"
    }
   ],
   "source": [
    "#Let's run the best model, It appears to be 7 typically\n",
    "knn_best = KNeighborsRegressor(n_neighbors = 7)\n",
    "knn_best.fit(X_train, y_train)\n",
    "knn_best.score(X_test, y_test)"
   ]
  },
  {
   "cell_type": "code",
   "execution_count": 30,
   "id": "3169ffba-a743-4587-adbc-077ad7a78a7c",
   "metadata": {},
   "outputs": [
    {
     "name": "stdout",
     "output_type": "stream",
     "text": [
      "0.05500672854347218\n",
      "0.16472407045009785\n"
     ]
    }
   ],
   "source": [
    "y_pred = knn_best.predict(X_test)\n",
    "print(mean_squared_error(y_test, y_pred))\n",
    "print(mean_absolute_error(y_test, y_pred))"
   ]
  },
  {
   "cell_type": "code",
   "execution_count": 31,
   "id": "b0e05a2e-8df8-45ab-8e6b-15746564e2a2",
   "metadata": {},
   "outputs": [
    {
     "name": "stdout",
     "output_type": "stream",
     "text": [
      "0.6576037301473117\n"
     ]
    }
   ],
   "source": [
    "#now to run it on the validation set\n",
    "\n",
    "score_knn = knn_best.score(X_val, y_val)\n",
    "print(score_knn)\n"
   ]
  },
  {
   "cell_type": "code",
   "execution_count": 32,
   "id": "2230e889-e475-4efa-9e72-a56c1f4b9681",
   "metadata": {},
   "outputs": [
    {
     "name": "stdout",
     "output_type": "stream",
     "text": [
      "0.05355602236511043\n",
      "0.16351545988258318\n"
     ]
    }
   ],
   "source": [
    "y_predval = knn_best.predict(X_val)\n",
    "print(mean_squared_error(y_val, y_predval))\n",
    "print(mean_absolute_error(y_val, y_predval))"
   ]
  },
  {
   "cell_type": "code",
   "execution_count": 33,
   "id": "720cc83d-2c29-4146-931a-61bbf471be40",
   "metadata": {},
   "outputs": [],
   "source": [
    "#to challenge ourselves let's try Linear SVM also\n",
    "modelSVR = SVR(kernel='linear').fit(X_train, y_train)\n",
    "y_pred = modelSVR.predict(X_test)"
   ]
  },
  {
   "cell_type": "code",
   "execution_count": 34,
   "id": "b5ff5387-9b94-4bf3-b38b-20865dee9924",
   "metadata": {},
   "outputs": [
    {
     "name": "stdout",
     "output_type": "stream",
     "text": [
      "<class 'numpy.float64'>\n"
     ]
    }
   ],
   "source": [
    "scoreLR = modelSVR.score(X_test, y_test)\n",
    "print(type(scoreLR))"
   ]
  },
  {
   "cell_type": "code",
   "execution_count": 35,
   "id": "a46655d1-f19c-47a1-a04a-b4c7ca1e305c",
   "metadata": {},
   "outputs": [
    {
     "data": {
      "text/plain": [
       "0.0937503077427697"
      ]
     },
     "execution_count": 35,
     "metadata": {},
     "output_type": "execute_result"
    }
   ],
   "source": [
    "y_pred = modelSVR.predict(X_test)\n",
    "mean_squared_error(y_test, y_pred)"
   ]
  },
  {
   "cell_type": "code",
   "execution_count": 36,
   "id": "0979e311-48ac-4eda-8436-d72a0f81da18",
   "metadata": {},
   "outputs": [
    {
     "data": {
      "text/plain": [
       "0.23474651154632015"
      ]
     },
     "execution_count": 36,
     "metadata": {},
     "output_type": "execute_result"
    }
   ],
   "source": [
    "y_pred = modelSVR.predict(X_test)\n",
    "mean_absolute_error(y_test, y_pred)"
   ]
  },
  {
   "cell_type": "code",
   "execution_count": 37,
   "id": "4affb034-0429-4b4b-9747-bb07d6213d68",
   "metadata": {},
   "outputs": [
    {
     "data": {
      "text/plain": [
       "<BarContainer object of 2 artists>"
      ]
     },
     "execution_count": 37,
     "metadata": {},
     "output_type": "execute_result"
    },
    {
     "data": {
      "image/png": "[encoded data removed]",
      "text/plain": [
       "<Figure size 640x480 with 1 Axes>"
      ]
     },
     "metadata": {},
     "output_type": "display_data"
    }
   ],
   "source": [
    "# R- Square evaluation of each KNN Regression and SVR Linear\n",
    "score_groups = [score_knn, scoreLR]\n",
    "score_names = ['KNN R Square', 'SVR R Square']\n",
    "plt.title(\"R Square comparison of KNN Regression and SVR Linear \", size = 10)\n",
    "#create bar plot by group\n",
    "plt.bar(score_names, score_groups)"
   ]
  },
  {
   "cell_type": "markdown",
   "id": "b4a6bc8e-59ef-4ddb-bc30-513c8f40d01e",
   "metadata": {},
   "source": [
    "### My summary - In summary my best KNN neighbour for regression was 7 and I compared the R square of the validation set at the end with  the SVR Linear model for comparison  which showed that the KNN Regression was significantly better than SVR for this model."
   ]
  }
 ],
 "metadata": {
  "kernelspec": {
   "display_name": "Python 3 (ipykernel)",
   "language": "python",
   "name": "python3"
  },
  "language_info": {
   "codemirror_mode": {
    "name": "ipython",
    "version": 3
   },
   "file_extension": ".py",
   "mimetype": "text/x-python",
   "name": "python",
   "nbconvert_exporter": "python",
   "pygments_lexer": "ipython3",
   "version": "3.11.8"
  }
 },
 "nbformat": 4,
 "nbformat_minor": 5
}
