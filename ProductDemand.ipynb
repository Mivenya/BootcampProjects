{
 "cells": [
  {
   "cell_type": "markdown",
   "id": "e6a89301-89aa-4f30-99a5-51db526c16d3",
   "metadata": {},
   "source": [
    "##  Mandy's Product Demand Project"
   ]
  },
  {
   "cell_type": "code",
   "execution_count": 1,
   "id": "5c11a391-6298-4ce1-9ed2-28af6228385e",
   "metadata": {},
   "outputs": [],
   "source": [
    "import pandas as pd\n",
    "import numpy as np\n",
    "\n",
    "import matplotlib.pyplot as plt\n",
    "import seaborn as sns\n",
    "\n",
    "from sklearn.preprocessing import OneHotEncoder, LabelEncoder, StandardScaler\n",
    "from sklearn.model_selection import train_test_split\n",
    "from sklearn.tree import DecisionTreeRegressor\n",
    "from sklearn.svm import SVR\n",
    "\n",
    "from sklearn.metrics import mean_squared_error\n",
    "from sklearn.metrics import mean_absolute_error\n",
    "\n",
    "label = LabelEncoder()\n",
    "enc = OneHotEncoder()\n",
    "scaler = StandardScaler()"
   ]
  },
  {
   "cell_type": "markdown",
   "id": "02c09e1f-fa0f-4955-82c4-f66cc34433a8",
   "metadata": {},
   "source": [
    "So the description of the dataset is that it contains historical product demand for a manufacturing company, who manufacture different parts from different locations globally and then ship, so there is a long turn around.  The idea is - can we predict demand a month ahead to get ahead of that wait."
   ]
  },
  {
   "cell_type": "code",
   "execution_count": 2,
   "id": "5628c032-d182-4450-b447-b1ae2ba0678e",
   "metadata": {},
   "outputs": [
    {
     "data": {
      "text/html": [
       "<div>\n",
       "<style scoped>\n",
       "    .dataframe tbody tr th:only-of-type {\n",
       "        vertical-align: middle;\n",
       "    }\n",
       "\n",
       "    .dataframe tbody tr th {\n",
       "        vertical-align: top;\n",
       "    }\n",
       "\n",
       "    .dataframe thead th {\n",
       "        text-align: right;\n",
       "    }\n",
       "</style>\n",
       "<table border=\"1\" class=\"dataframe\">\n",
       "  <thead>\n",
       "    <tr style=\"text-align: right;\">\n",
       "      <th></th>\n",
       "      <th>Product_Code</th>\n",
       "      <th>Warehouse</th>\n",
       "      <th>Product_Category</th>\n",
       "      <th>Date</th>\n",
       "      <th>Order_Demand</th>\n",
       "    </tr>\n",
       "  </thead>\n",
       "  <tbody>\n",
       "    <tr>\n",
       "      <th>0</th>\n",
       "      <td>Product_0993</td>\n",
       "      <td>Whse_J</td>\n",
       "      <td>Category_028</td>\n",
       "      <td>2012/7/27</td>\n",
       "      <td>100</td>\n",
       "    </tr>\n",
       "    <tr>\n",
       "      <th>1</th>\n",
       "      <td>Product_0979</td>\n",
       "      <td>Whse_J</td>\n",
       "      <td>Category_028</td>\n",
       "      <td>2012/1/19</td>\n",
       "      <td>500</td>\n",
       "    </tr>\n",
       "    <tr>\n",
       "      <th>2</th>\n",
       "      <td>Product_0979</td>\n",
       "      <td>Whse_J</td>\n",
       "      <td>Category_028</td>\n",
       "      <td>2012/2/3</td>\n",
       "      <td>500</td>\n",
       "    </tr>\n",
       "    <tr>\n",
       "      <th>3</th>\n",
       "      <td>Product_0979</td>\n",
       "      <td>Whse_J</td>\n",
       "      <td>Category_028</td>\n",
       "      <td>2012/2/9</td>\n",
       "      <td>500</td>\n",
       "    </tr>\n",
       "    <tr>\n",
       "      <th>4</th>\n",
       "      <td>Product_0979</td>\n",
       "      <td>Whse_J</td>\n",
       "      <td>Category_028</td>\n",
       "      <td>2012/3/2</td>\n",
       "      <td>500</td>\n",
       "    </tr>\n",
       "    <tr>\n",
       "      <th>...</th>\n",
       "      <td>...</td>\n",
       "      <td>...</td>\n",
       "      <td>...</td>\n",
       "      <td>...</td>\n",
       "      <td>...</td>\n",
       "    </tr>\n",
       "    <tr>\n",
       "      <th>1048570</th>\n",
       "      <td>Product_1791</td>\n",
       "      <td>Whse_J</td>\n",
       "      <td>Category_006</td>\n",
       "      <td>2016/4/27</td>\n",
       "      <td>1000</td>\n",
       "    </tr>\n",
       "    <tr>\n",
       "      <th>1048571</th>\n",
       "      <td>Product_1974</td>\n",
       "      <td>Whse_J</td>\n",
       "      <td>Category_006</td>\n",
       "      <td>2016/4/27</td>\n",
       "      <td>1</td>\n",
       "    </tr>\n",
       "    <tr>\n",
       "      <th>1048572</th>\n",
       "      <td>Product_1787</td>\n",
       "      <td>Whse_J</td>\n",
       "      <td>Category_006</td>\n",
       "      <td>2016/4/28</td>\n",
       "      <td>2500</td>\n",
       "    </tr>\n",
       "    <tr>\n",
       "      <th>1048573</th>\n",
       "      <td>Product_0901</td>\n",
       "      <td>Whse_J</td>\n",
       "      <td>Category_023</td>\n",
       "      <td>2016/10/7</td>\n",
       "      <td>50</td>\n",
       "    </tr>\n",
       "    <tr>\n",
       "      <th>1048574</th>\n",
       "      <td>Product_0704</td>\n",
       "      <td>Whse_J</td>\n",
       "      <td>Category_001</td>\n",
       "      <td>2016/6/27</td>\n",
       "      <td>4</td>\n",
       "    </tr>\n",
       "  </tbody>\n",
       "</table>\n",
       "<p>1048575 rows × 5 columns</p>\n",
       "</div>"
      ],
      "text/plain": [
       "         Product_Code Warehouse Product_Category       Date Order_Demand\n",
       "0        Product_0993    Whse_J     Category_028  2012/7/27         100 \n",
       "1        Product_0979    Whse_J     Category_028  2012/1/19         500 \n",
       "2        Product_0979    Whse_J     Category_028   2012/2/3         500 \n",
       "3        Product_0979    Whse_J     Category_028   2012/2/9         500 \n",
       "4        Product_0979    Whse_J     Category_028   2012/3/2         500 \n",
       "...               ...       ...              ...        ...          ...\n",
       "1048570  Product_1791    Whse_J     Category_006  2016/4/27        1000 \n",
       "1048571  Product_1974    Whse_J     Category_006  2016/4/27           1 \n",
       "1048572  Product_1787    Whse_J     Category_006  2016/4/28        2500 \n",
       "1048573  Product_0901    Whse_J     Category_023  2016/10/7          50 \n",
       "1048574  Product_0704    Whse_J     Category_001  2016/6/27           4 \n",
       "\n",
       "[1048575 rows x 5 columns]"
      ]
     },
     "execution_count": 2,
     "metadata": {},
     "output_type": "execute_result"
    }
   ],
   "source": [
    "# Pull in dataset - 5  columns total\n",
    "\n",
    "starterdataset = pd.read_csv(\"Historical Product Demand.csv\")\n",
    "starterdataset"
   ]
  },
  {
   "cell_type": "code",
   "execution_count": 3,
   "id": "1000e95f",
   "metadata": {},
   "outputs": [
    {
     "name": "stdout",
     "output_type": "stream",
     "text": [
      "<class 'pandas.core.frame.DataFrame'>\n",
      "RangeIndex: 1048575 entries, 0 to 1048574\n",
      "Data columns (total 5 columns):\n",
      " #   Column            Non-Null Count    Dtype \n",
      "---  ------            --------------    ----- \n",
      " 0   Product_Code      1048575 non-null  object\n",
      " 1   Warehouse         1048575 non-null  object\n",
      " 2   Product_Category  1048575 non-null  object\n",
      " 3   Date              1037336 non-null  object\n",
      " 4   Order_Demand      1048575 non-null  object\n",
      "dtypes: object(5)\n",
      "memory usage: 40.0+ MB\n"
     ]
    }
   ],
   "source": [
    "starterdataset.info()"
   ]
  },
  {
   "cell_type": "code",
   "execution_count": 4,
   "id": "bb397c56-7d07-4e53-95b4-4ae9a4259cfc",
   "metadata": {},
   "outputs": [
    {
     "name": "stdout",
     "output_type": "stream",
     "text": [
      "Product_Code            0\n",
      "Warehouse               0\n",
      "Product_Category        0\n",
      "Date                11239\n",
      "Order_Demand            0\n",
      "dtype: int64\n"
     ]
    }
   ],
   "source": [
    "# Check for missing data - there is a large number empty in the date field, but overall they are a smaller percentage and without the dates\n",
    "# they aren't helpful in predicting the month ahead if we don't know when they took place so let's remove those rows.\n",
    "nan_count = starterdataset.isna().sum()\n",
    "\n",
    "print(nan_count)"
   ]
  },
  {
   "cell_type": "code",
   "execution_count": 5,
   "id": "087eb978-5c17-47f9-ac75-82dd27dfd60a",
   "metadata": {},
   "outputs": [],
   "source": [
    "# Drop rows with missing values\n",
    "\n",
    "starterdataset.dropna(inplace = True)"
   ]
  },
  {
   "cell_type": "code",
   "execution_count": 6,
   "id": "77f9b65f-d55a-4a0e-85b0-3080c07a2cae",
   "metadata": {},
   "outputs": [
    {
     "name": "stdout",
     "output_type": "stream",
     "text": [
      "Product_Code        0\n",
      "Warehouse           0\n",
      "Product_Category    0\n",
      "Date                0\n",
      "Order_Demand        0\n",
      "dtype: int64\n"
     ]
    }
   ],
   "source": [
    "nan_count = starterdataset.isna().sum()\n",
    "\n",
    "print(nan_count)"
   ]
  },
  {
   "cell_type": "markdown",
   "id": "c10afeee-c3c5-456e-b972-59249678f305",
   "metadata": {},
   "source": [
    "Ok that's better.  Given the information we have and what we are looking for, when i'm thinking of features the only one I will be removing is Product Category.  The Product Code would be a subset of the category but I feel we need to know the specific code as some products within the same category might be produced in different warehouses, so for our purposes the category is not relevant"
   ]
  },
  {
   "cell_type": "code",
   "execution_count": 7,
   "id": "3b46f5c0-e27b-4cf5-835d-bd70312f4a9b",
   "metadata": {},
   "outputs": [
    {
     "data": {
      "text/html": [
       "<div>\n",
       "<style scoped>\n",
       "    .dataframe tbody tr th:only-of-type {\n",
       "        vertical-align: middle;\n",
       "    }\n",
       "\n",
       "    .dataframe tbody tr th {\n",
       "        vertical-align: top;\n",
       "    }\n",
       "\n",
       "    .dataframe thead th {\n",
       "        text-align: right;\n",
       "    }\n",
       "</style>\n",
       "<table border=\"1\" class=\"dataframe\">\n",
       "  <thead>\n",
       "    <tr style=\"text-align: right;\">\n",
       "      <th></th>\n",
       "      <th>Product_Code</th>\n",
       "      <th>Warehouse</th>\n",
       "      <th>Date</th>\n",
       "      <th>Order_Demand</th>\n",
       "    </tr>\n",
       "  </thead>\n",
       "  <tbody>\n",
       "    <tr>\n",
       "      <th>0</th>\n",
       "      <td>Product_0993</td>\n",
       "      <td>Whse_J</td>\n",
       "      <td>2012/7/27</td>\n",
       "      <td>100</td>\n",
       "    </tr>\n",
       "    <tr>\n",
       "      <th>1</th>\n",
       "      <td>Product_0979</td>\n",
       "      <td>Whse_J</td>\n",
       "      <td>2012/1/19</td>\n",
       "      <td>500</td>\n",
       "    </tr>\n",
       "    <tr>\n",
       "      <th>2</th>\n",
       "      <td>Product_0979</td>\n",
       "      <td>Whse_J</td>\n",
       "      <td>2012/2/3</td>\n",
       "      <td>500</td>\n",
       "    </tr>\n",
       "    <tr>\n",
       "      <th>3</th>\n",
       "      <td>Product_0979</td>\n",
       "      <td>Whse_J</td>\n",
       "      <td>2012/2/9</td>\n",
       "      <td>500</td>\n",
       "    </tr>\n",
       "    <tr>\n",
       "      <th>4</th>\n",
       "      <td>Product_0979</td>\n",
       "      <td>Whse_J</td>\n",
       "      <td>2012/3/2</td>\n",
       "      <td>500</td>\n",
       "    </tr>\n",
       "  </tbody>\n",
       "</table>\n",
       "</div>"
      ],
      "text/plain": [
       "   Product_Code Warehouse       Date Order_Demand\n",
       "0  Product_0993    Whse_J  2012/7/27         100 \n",
       "1  Product_0979    Whse_J  2012/1/19         500 \n",
       "2  Product_0979    Whse_J   2012/2/3         500 \n",
       "3  Product_0979    Whse_J   2012/2/9         500 \n",
       "4  Product_0979    Whse_J   2012/3/2         500 "
      ]
     },
     "execution_count": 7,
     "metadata": {},
     "output_type": "execute_result"
    }
   ],
   "source": [
    "dataset = starterdataset.drop([\"Product_Category\"], axis = 1)\n",
    "dataset.head(5)"
   ]
  },
  {
   "cell_type": "markdown",
   "id": "549888fc-c8e3-4c59-8152-7334f7b641ed",
   "metadata": {},
   "source": [
    "After some testing, as this is a bit computer intense also and I want to keep my target column I might use label encoder for the target first let's check.\n"
   ]
  },
  {
   "cell_type": "code",
   "execution_count": 8,
   "id": "a8554c5b-5773-4633-8676-f0dcd90346b8",
   "metadata": {},
   "outputs": [
    {
     "data": {
      "text/html": [
       "<div>\n",
       "<style scoped>\n",
       "    .dataframe tbody tr th:only-of-type {\n",
       "        vertical-align: middle;\n",
       "    }\n",
       "\n",
       "    .dataframe tbody tr th {\n",
       "        vertical-align: top;\n",
       "    }\n",
       "\n",
       "    .dataframe thead th {\n",
       "        text-align: right;\n",
       "    }\n",
       "</style>\n",
       "<table border=\"1\" class=\"dataframe\">\n",
       "  <thead>\n",
       "    <tr style=\"text-align: right;\">\n",
       "      <th></th>\n",
       "      <th>Product_Code</th>\n",
       "      <th>Warehouse</th>\n",
       "      <th>Date</th>\n",
       "      <th>Order_Demand</th>\n",
       "    </tr>\n",
       "  </thead>\n",
       "  <tbody>\n",
       "    <tr>\n",
       "      <th>0</th>\n",
       "      <td>982</td>\n",
       "      <td>Whse_J</td>\n",
       "      <td>2012/7/27</td>\n",
       "      <td>100</td>\n",
       "    </tr>\n",
       "    <tr>\n",
       "      <th>1</th>\n",
       "      <td>968</td>\n",
       "      <td>Whse_J</td>\n",
       "      <td>2012/1/19</td>\n",
       "      <td>500</td>\n",
       "    </tr>\n",
       "    <tr>\n",
       "      <th>2</th>\n",
       "      <td>968</td>\n",
       "      <td>Whse_J</td>\n",
       "      <td>2012/2/3</td>\n",
       "      <td>500</td>\n",
       "    </tr>\n",
       "    <tr>\n",
       "      <th>3</th>\n",
       "      <td>968</td>\n",
       "      <td>Whse_J</td>\n",
       "      <td>2012/2/9</td>\n",
       "      <td>500</td>\n",
       "    </tr>\n",
       "    <tr>\n",
       "      <th>4</th>\n",
       "      <td>968</td>\n",
       "      <td>Whse_J</td>\n",
       "      <td>2012/3/2</td>\n",
       "      <td>500</td>\n",
       "    </tr>\n",
       "    <tr>\n",
       "      <th>...</th>\n",
       "      <td>...</td>\n",
       "      <td>...</td>\n",
       "      <td>...</td>\n",
       "      <td>...</td>\n",
       "    </tr>\n",
       "    <tr>\n",
       "      <th>1048570</th>\n",
       "      <td>1780</td>\n",
       "      <td>Whse_J</td>\n",
       "      <td>2016/4/27</td>\n",
       "      <td>1000</td>\n",
       "    </tr>\n",
       "    <tr>\n",
       "      <th>1048571</th>\n",
       "      <td>1962</td>\n",
       "      <td>Whse_J</td>\n",
       "      <td>2016/4/27</td>\n",
       "      <td>1</td>\n",
       "    </tr>\n",
       "    <tr>\n",
       "      <th>1048572</th>\n",
       "      <td>1776</td>\n",
       "      <td>Whse_J</td>\n",
       "      <td>2016/4/28</td>\n",
       "      <td>2500</td>\n",
       "    </tr>\n",
       "    <tr>\n",
       "      <th>1048573</th>\n",
       "      <td>890</td>\n",
       "      <td>Whse_J</td>\n",
       "      <td>2016/10/7</td>\n",
       "      <td>50</td>\n",
       "    </tr>\n",
       "    <tr>\n",
       "      <th>1048574</th>\n",
       "      <td>703</td>\n",
       "      <td>Whse_J</td>\n",
       "      <td>2016/6/27</td>\n",
       "      <td>4</td>\n",
       "    </tr>\n",
       "  </tbody>\n",
       "</table>\n",
       "<p>1037336 rows × 4 columns</p>\n",
       "</div>"
      ],
      "text/plain": [
       "        Product_Code Warehouse       Date Order_Demand\n",
       "0                982    Whse_J  2012/7/27         100 \n",
       "1                968    Whse_J  2012/1/19         500 \n",
       "2                968    Whse_J   2012/2/3         500 \n",
       "3                968    Whse_J   2012/2/9         500 \n",
       "4                968    Whse_J   2012/3/2         500 \n",
       "...              ...       ...        ...          ...\n",
       "1048570         1780    Whse_J  2016/4/27        1000 \n",
       "1048571         1962    Whse_J  2016/4/27           1 \n",
       "1048572         1776    Whse_J  2016/4/28        2500 \n",
       "1048573          890    Whse_J  2016/10/7          50 \n",
       "1048574          703    Whse_J  2016/6/27           4 \n",
       "\n",
       "[1037336 rows x 4 columns]"
      ]
     },
     "execution_count": 8,
     "metadata": {},
     "output_type": "execute_result"
    }
   ],
   "source": [
    "dataset.loc[:, 'Product_Code'] = label.fit_transform(dataset['Product_Code'])\n",
    "\n",
    "dataset"
   ]
  },
  {
   "cell_type": "code",
   "execution_count": 9,
   "id": "12852231-ffb0-421c-803f-b4b16bc21f69",
   "metadata": {},
   "outputs": [
    {
     "data": {
      "text/html": [
       "<div>\n",
       "<style scoped>\n",
       "    .dataframe tbody tr th:only-of-type {\n",
       "        vertical-align: middle;\n",
       "    }\n",
       "\n",
       "    .dataframe tbody tr th {\n",
       "        vertical-align: top;\n",
       "    }\n",
       "\n",
       "    .dataframe thead th {\n",
       "        text-align: right;\n",
       "    }\n",
       "</style>\n",
       "<table border=\"1\" class=\"dataframe\">\n",
       "  <thead>\n",
       "    <tr style=\"text-align: right;\">\n",
       "      <th></th>\n",
       "      <th>Warehouse_Whse_A</th>\n",
       "      <th>Warehouse_Whse_C</th>\n",
       "      <th>Warehouse_Whse_J</th>\n",
       "      <th>Warehouse_Whse_S</th>\n",
       "    </tr>\n",
       "  </thead>\n",
       "  <tbody>\n",
       "    <tr>\n",
       "      <th>0</th>\n",
       "      <td>0</td>\n",
       "      <td>0</td>\n",
       "      <td>1</td>\n",
       "      <td>0</td>\n",
       "    </tr>\n",
       "    <tr>\n",
       "      <th>1</th>\n",
       "      <td>0</td>\n",
       "      <td>0</td>\n",
       "      <td>1</td>\n",
       "      <td>0</td>\n",
       "    </tr>\n",
       "    <tr>\n",
       "      <th>2</th>\n",
       "      <td>0</td>\n",
       "      <td>0</td>\n",
       "      <td>1</td>\n",
       "      <td>0</td>\n",
       "    </tr>\n",
       "    <tr>\n",
       "      <th>3</th>\n",
       "      <td>0</td>\n",
       "      <td>0</td>\n",
       "      <td>1</td>\n",
       "      <td>0</td>\n",
       "    </tr>\n",
       "    <tr>\n",
       "      <th>4</th>\n",
       "      <td>0</td>\n",
       "      <td>0</td>\n",
       "      <td>1</td>\n",
       "      <td>0</td>\n",
       "    </tr>\n",
       "  </tbody>\n",
       "</table>\n",
       "</div>"
      ],
      "text/plain": [
       "   Warehouse_Whse_A  Warehouse_Whse_C  Warehouse_Whse_J  Warehouse_Whse_S\n",
       "0                 0                 0                 1                 0\n",
       "1                 0                 0                 1                 0\n",
       "2                 0                 0                 1                 0\n",
       "3                 0                 0                 1                 0\n",
       "4                 0                 0                 1                 0"
      ]
     },
     "execution_count": 9,
     "metadata": {},
     "output_type": "execute_result"
    }
   ],
   "source": [
    "# Next we will need to encode - So Product Code will be our target, however there are multiple catagorical so one hot encoding.\n",
    "datasettemp = pd.get_dummies(dataset[['Warehouse']], dtype=int)\n",
    "datasettemp.head(5)\n",
    "#Yes this worked much better"
   ]
  },
  {
   "cell_type": "code",
   "execution_count": 10,
   "id": "23f49cbb-a760-4e91-a366-128e716a205a",
   "metadata": {},
   "outputs": [],
   "source": [
    "# So here i keep getting Memory error, first with 7.9 g memory free, then shut a bunch of things down and tried again\n",
    "# MemoryError: Unable to allocate 14.5 GiB for an array with shape (3749, 1037336) and data type int32\n",
    "# I may need more ram in the end lol\n"
   ]
  },
  {
   "cell_type": "code",
   "execution_count": 11,
   "id": "31d8d886-088b-41ae-96e2-62aa72f3586e",
   "metadata": {},
   "outputs": [
    {
     "data": {
      "text/html": [
       "<div>\n",
       "<style scoped>\n",
       "    .dataframe tbody tr th:only-of-type {\n",
       "        vertical-align: middle;\n",
       "    }\n",
       "\n",
       "    .dataframe tbody tr th {\n",
       "        vertical-align: top;\n",
       "    }\n",
       "\n",
       "    .dataframe thead th {\n",
       "        text-align: right;\n",
       "    }\n",
       "</style>\n",
       "<table border=\"1\" class=\"dataframe\">\n",
       "  <thead>\n",
       "    <tr style=\"text-align: right;\">\n",
       "      <th></th>\n",
       "      <th>Product_Code</th>\n",
       "      <th>Date</th>\n",
       "      <th>Order_Demand</th>\n",
       "      <th>Warehouse_Whse_A</th>\n",
       "      <th>Warehouse_Whse_C</th>\n",
       "      <th>Warehouse_Whse_J</th>\n",
       "      <th>Warehouse_Whse_S</th>\n",
       "    </tr>\n",
       "  </thead>\n",
       "  <tbody>\n",
       "    <tr>\n",
       "      <th>0</th>\n",
       "      <td>982</td>\n",
       "      <td>2012/7/27</td>\n",
       "      <td>100</td>\n",
       "      <td>0</td>\n",
       "      <td>0</td>\n",
       "      <td>1</td>\n",
       "      <td>0</td>\n",
       "    </tr>\n",
       "    <tr>\n",
       "      <th>1</th>\n",
       "      <td>968</td>\n",
       "      <td>2012/1/19</td>\n",
       "      <td>500</td>\n",
       "      <td>0</td>\n",
       "      <td>0</td>\n",
       "      <td>1</td>\n",
       "      <td>0</td>\n",
       "    </tr>\n",
       "    <tr>\n",
       "      <th>2</th>\n",
       "      <td>968</td>\n",
       "      <td>2012/2/3</td>\n",
       "      <td>500</td>\n",
       "      <td>0</td>\n",
       "      <td>0</td>\n",
       "      <td>1</td>\n",
       "      <td>0</td>\n",
       "    </tr>\n",
       "    <tr>\n",
       "      <th>3</th>\n",
       "      <td>968</td>\n",
       "      <td>2012/2/9</td>\n",
       "      <td>500</td>\n",
       "      <td>0</td>\n",
       "      <td>0</td>\n",
       "      <td>1</td>\n",
       "      <td>0</td>\n",
       "    </tr>\n",
       "    <tr>\n",
       "      <th>4</th>\n",
       "      <td>968</td>\n",
       "      <td>2012/3/2</td>\n",
       "      <td>500</td>\n",
       "      <td>0</td>\n",
       "      <td>0</td>\n",
       "      <td>1</td>\n",
       "      <td>0</td>\n",
       "    </tr>\n",
       "  </tbody>\n",
       "</table>\n",
       "</div>"
      ],
      "text/plain": [
       "  Product_Code       Date Order_Demand  Warehouse_Whse_A  Warehouse_Whse_C  \\\n",
       "0          982  2012/7/27         100                  0                 0   \n",
       "1          968  2012/1/19         500                  0                 0   \n",
       "2          968   2012/2/3         500                  0                 0   \n",
       "3          968   2012/2/9         500                  0                 0   \n",
       "4          968   2012/3/2         500                  0                 0   \n",
       "\n",
       "   Warehouse_Whse_J  Warehouse_Whse_S  \n",
       "0                 1                 0  \n",
       "1                 1                 0  \n",
       "2                 1                 0  \n",
       "3                 1                 0  \n",
       "4                 1                 0  "
      ]
     },
     "execution_count": 11,
     "metadata": {},
     "output_type": "execute_result"
    }
   ],
   "source": [
    "datafull = pd.concat([dataset[['Product_Code','Date', 'Order_Demand']], datasettemp], axis=1) \n",
    "datafull.head(5)"
   ]
  },
  {
   "cell_type": "markdown",
   "id": "13224e94-30dd-43fc-adbc-19104ce38d01",
   "metadata": {},
   "source": [
    "ok so I think we have all our data prepared overall, there are 4 warehouses it looks like, time for some EDA, first which warehouses have how much demand in general maybe."
   ]
  },
  {
   "cell_type": "markdown",
   "id": "8f39686d",
   "metadata": {},
   "source": [
    "# So i discovered I need to do my groupby differently i'm going to do a version of this where the warehouse is label encoded so that i can bar plot the demand.\n"
   ]
  },
  {
   "cell_type": "code",
   "execution_count": 12,
   "id": "66c45de4",
   "metadata": {},
   "outputs": [
    {
     "data": {
      "text/html": [
       "<div>\n",
       "<style scoped>\n",
       "    .dataframe tbody tr th:only-of-type {\n",
       "        vertical-align: middle;\n",
       "    }\n",
       "\n",
       "    .dataframe tbody tr th {\n",
       "        vertical-align: top;\n",
       "    }\n",
       "\n",
       "    .dataframe thead th {\n",
       "        text-align: right;\n",
       "    }\n",
       "</style>\n",
       "<table border=\"1\" class=\"dataframe\">\n",
       "  <thead>\n",
       "    <tr style=\"text-align: right;\">\n",
       "      <th></th>\n",
       "      <th>Product_Code</th>\n",
       "      <th>Warehouse</th>\n",
       "      <th>Date</th>\n",
       "      <th>Order_Demand</th>\n",
       "    </tr>\n",
       "  </thead>\n",
       "  <tbody>\n",
       "    <tr>\n",
       "      <th>0</th>\n",
       "      <td>982</td>\n",
       "      <td>Whse_J</td>\n",
       "      <td>2012/7/27</td>\n",
       "      <td>100</td>\n",
       "    </tr>\n",
       "    <tr>\n",
       "      <th>1</th>\n",
       "      <td>968</td>\n",
       "      <td>Whse_J</td>\n",
       "      <td>2012/1/19</td>\n",
       "      <td>500</td>\n",
       "    </tr>\n",
       "    <tr>\n",
       "      <th>2</th>\n",
       "      <td>968</td>\n",
       "      <td>Whse_J</td>\n",
       "      <td>2012/2/3</td>\n",
       "      <td>500</td>\n",
       "    </tr>\n",
       "    <tr>\n",
       "      <th>3</th>\n",
       "      <td>968</td>\n",
       "      <td>Whse_J</td>\n",
       "      <td>2012/2/9</td>\n",
       "      <td>500</td>\n",
       "    </tr>\n",
       "    <tr>\n",
       "      <th>4</th>\n",
       "      <td>968</td>\n",
       "      <td>Whse_J</td>\n",
       "      <td>2012/3/2</td>\n",
       "      <td>500</td>\n",
       "    </tr>\n",
       "    <tr>\n",
       "      <th>...</th>\n",
       "      <td>...</td>\n",
       "      <td>...</td>\n",
       "      <td>...</td>\n",
       "      <td>...</td>\n",
       "    </tr>\n",
       "    <tr>\n",
       "      <th>1048570</th>\n",
       "      <td>1780</td>\n",
       "      <td>Whse_J</td>\n",
       "      <td>2016/4/27</td>\n",
       "      <td>1000</td>\n",
       "    </tr>\n",
       "    <tr>\n",
       "      <th>1048571</th>\n",
       "      <td>1962</td>\n",
       "      <td>Whse_J</td>\n",
       "      <td>2016/4/27</td>\n",
       "      <td>1</td>\n",
       "    </tr>\n",
       "    <tr>\n",
       "      <th>1048572</th>\n",
       "      <td>1776</td>\n",
       "      <td>Whse_J</td>\n",
       "      <td>2016/4/28</td>\n",
       "      <td>2500</td>\n",
       "    </tr>\n",
       "    <tr>\n",
       "      <th>1048573</th>\n",
       "      <td>890</td>\n",
       "      <td>Whse_J</td>\n",
       "      <td>2016/10/7</td>\n",
       "      <td>50</td>\n",
       "    </tr>\n",
       "    <tr>\n",
       "      <th>1048574</th>\n",
       "      <td>703</td>\n",
       "      <td>Whse_J</td>\n",
       "      <td>2016/6/27</td>\n",
       "      <td>4</td>\n",
       "    </tr>\n",
       "  </tbody>\n",
       "</table>\n",
       "<p>1037336 rows × 4 columns</p>\n",
       "</div>"
      ],
      "text/plain": [
       "        Product_Code Warehouse       Date Order_Demand\n",
       "0                982    Whse_J  2012/7/27         100 \n",
       "1                968    Whse_J  2012/1/19         500 \n",
       "2                968    Whse_J   2012/2/3         500 \n",
       "3                968    Whse_J   2012/2/9         500 \n",
       "4                968    Whse_J   2012/3/2         500 \n",
       "...              ...       ...        ...          ...\n",
       "1048570         1780    Whse_J  2016/4/27        1000 \n",
       "1048571         1962    Whse_J  2016/4/27           1 \n",
       "1048572         1776    Whse_J  2016/4/28        2500 \n",
       "1048573          890    Whse_J  2016/10/7          50 \n",
       "1048574          703    Whse_J  2016/6/27           4 \n",
       "\n",
       "[1037336 rows x 4 columns]"
      ]
     },
     "execution_count": 12,
     "metadata": {},
     "output_type": "execute_result"
    }
   ],
   "source": [
    "datasetdemand = dataset\n",
    "#datasetdemand.loc[:, 'Warehouse'] = label.fit_transform(dataset['Warehouse'])\n",
    "\n",
    "datasetdemand"
   ]
  },
  {
   "cell_type": "markdown",
   "id": "d828069c",
   "metadata": {},
   "source": [
    "# Exploration Notes Start\n",
    "In the Section below - I tried to do a sum of the Order Demand for each Warehouse but was getting errors about it not being numerical data. After doing some digging I notice that it's considered object, not int.  I tried first to convert the datatype which you'll see below just for example purposes (i'll denote below the end of this exploration section).  That did not work either.  \n",
    "\n",
    "So next I checked the unique values within the Order_Demand column and found some values with brackets.  This lead to a discussion... are these returns to warehouse? Are the brackets errors? We aren't  sure.  Typically the answer to this would be to ask our SME/ data provider, but in the absence of being able to do that, and looking at the description that it's specifically supposed to be values of product create and sent from warehouse (with no mention of returns) we will drop the brackets and then convert to int.\n"
   ]
  },
  {
   "cell_type": "code",
   "execution_count": 13,
   "id": "20b2a8a3",
   "metadata": {},
   "outputs": [
    {
     "name": "stdout",
     "output_type": "stream",
     "text": [
      "<class 'pandas.core.frame.DataFrame'>\n",
      "Index: 1037336 entries, 0 to 1048574\n",
      "Data columns (total 4 columns):\n",
      " #   Column        Non-Null Count    Dtype \n",
      "---  ------        --------------    ----- \n",
      " 0   Product_Code  1037336 non-null  object\n",
      " 1   Warehouse     1037336 non-null  object\n",
      " 2   Date          1037336 non-null  object\n",
      " 3   Order_Demand  1037336 non-null  object\n",
      "dtypes: object(4)\n",
      "memory usage: 39.6+ MB\n"
     ]
    }
   ],
   "source": [
    "datasetdemand.info()"
   ]
  },
  {
   "cell_type": "code",
   "execution_count": 14,
   "id": "b42a1a14",
   "metadata": {},
   "outputs": [
    {
     "data": {
      "text/plain": [
       "array(['100 ', '500 ', '50000 ', ..., '(3750)', '(191)', '28250 '],\n",
       "      dtype=object)"
      ]
     },
     "execution_count": 14,
     "metadata": {},
     "output_type": "execute_result"
    }
   ],
   "source": [
    "dataset['Order_Demand'].unique()"
   ]
  },
  {
   "cell_type": "code",
   "execution_count": 15,
   "id": "f7aae15b",
   "metadata": {},
   "outputs": [],
   "source": [
    "dataset['Order_Demand'] = dataset['Order_Demand'].str.replace('(', '')\n",
    "\n",
    "dataset['Order_Demand'] = dataset['Order_Demand'].str.replace(')', '')"
   ]
  },
  {
   "cell_type": "code",
   "execution_count": 16,
   "id": "f18197cf",
   "metadata": {},
   "outputs": [],
   "source": [
    "dataset['Order_Demand'].unique()\n",
    "# oh look there's still an empty space so i still can't convert it grr\n",
    "dataset['Order_Demand'] = dataset['Order_Demand'].str.replace(' ', '')\n",
    "#dataset['Order_Demand'] = dataset['Order_Demand'].str.replace('(1)', '')\n"
   ]
  },
  {
   "cell_type": "code",
   "execution_count": 17,
   "id": "ad4f7742",
   "metadata": {},
   "outputs": [
    {
     "data": {
      "text/plain": [
       "array(['100', '500', '50000', ..., '1700000', '497000', '28250'],\n",
       "      dtype=object)"
      ]
     },
     "execution_count": 17,
     "metadata": {},
     "output_type": "execute_result"
    }
   ],
   "source": [
    "dataset['Order_Demand'].unique()"
   ]
  },
  {
   "cell_type": "code",
   "execution_count": 18,
   "id": "e86510e6",
   "metadata": {},
   "outputs": [
    {
     "data": {
      "text/html": [
       "<div>\n",
       "<style scoped>\n",
       "    .dataframe tbody tr th:only-of-type {\n",
       "        vertical-align: middle;\n",
       "    }\n",
       "\n",
       "    .dataframe tbody tr th {\n",
       "        vertical-align: top;\n",
       "    }\n",
       "\n",
       "    .dataframe thead th {\n",
       "        text-align: right;\n",
       "    }\n",
       "</style>\n",
       "<table border=\"1\" class=\"dataframe\">\n",
       "  <thead>\n",
       "    <tr style=\"text-align: right;\">\n",
       "      <th></th>\n",
       "      <th>Warehouse</th>\n",
       "      <th>Order_Demand</th>\n",
       "    </tr>\n",
       "  </thead>\n",
       "  <tbody>\n",
       "    <tr>\n",
       "      <th>0</th>\n",
       "      <td>Whse_J</td>\n",
       "      <td>100</td>\n",
       "    </tr>\n",
       "    <tr>\n",
       "      <th>1</th>\n",
       "      <td>Whse_J</td>\n",
       "      <td>500</td>\n",
       "    </tr>\n",
       "    <tr>\n",
       "      <th>2</th>\n",
       "      <td>Whse_J</td>\n",
       "      <td>500</td>\n",
       "    </tr>\n",
       "    <tr>\n",
       "      <th>3</th>\n",
       "      <td>Whse_J</td>\n",
       "      <td>500</td>\n",
       "    </tr>\n",
       "    <tr>\n",
       "      <th>4</th>\n",
       "      <td>Whse_J</td>\n",
       "      <td>500</td>\n",
       "    </tr>\n",
       "  </tbody>\n",
       "</table>\n",
       "</div>"
      ],
      "text/plain": [
       "  Warehouse Order_Demand\n",
       "0    Whse_J          100\n",
       "1    Whse_J          500\n",
       "2    Whse_J          500\n",
       "3    Whse_J          500\n",
       "4    Whse_J          500"
      ]
     },
     "execution_count": 18,
     "metadata": {},
     "output_type": "execute_result"
    }
   ],
   "source": [
    "datasetdemand = datasetdemand.drop([\"Date\", \"Product_Code\"], axis = 1)\n",
    "datasetdemand.head(5)"
   ]
  },
  {
   "cell_type": "code",
   "execution_count": 19,
   "id": "3bcf429c",
   "metadata": {},
   "outputs": [],
   "source": [
    "#still not working let's see how many with strings are left here\n",
    "datasetdemand['Order_Demand_num'] = pd.to_numeric(datasetdemand['Order_Demand'], errors='coerce')"
   ]
  },
  {
   "cell_type": "code",
   "execution_count": 20,
   "id": "bbe1028f",
   "metadata": {},
   "outputs": [
    {
     "data": {
      "text/plain": [
       "Series([], Name: Order_Demand, dtype: object)"
      ]
     },
     "execution_count": 20,
     "metadata": {},
     "output_type": "execute_result"
    }
   ],
   "source": [
    "#check values of what was converted but it doesn't show any?\n",
    "datasetdemand.loc[datasetdemand['Order_Demand'].notna()&datasetdemand['Order_Demand_num'].isna(), 'Order_Demand']"
   ]
  },
  {
   "cell_type": "code",
   "execution_count": 21,
   "id": "38b43509",
   "metadata": {},
   "outputs": [
    {
     "name": "stdout",
     "output_type": "stream",
     "text": [
      "<class 'pandas.core.frame.DataFrame'>\n",
      "Index: 1037336 entries, 0 to 1048574\n",
      "Data columns (total 3 columns):\n",
      " #   Column            Non-Null Count    Dtype \n",
      "---  ------            --------------    ----- \n",
      " 0   Warehouse         1037336 non-null  object\n",
      " 1   Order_Demand      1037336 non-null  object\n",
      " 2   Order_Demand_num  1037336 non-null  int64 \n",
      "dtypes: int64(1), object(2)\n",
      "memory usage: 31.7+ MB\n"
     ]
    }
   ],
   "source": [
    "#datasetdemand.astype('int64').dtypes\n",
    "datasetdemand.astype({'Order_Demand': 'int32'}).dtypes\n",
    "datasetdemand.info()\n",
    "#And here we see the forced to numeric actually has the same count so strange\n"
   ]
  },
  {
   "cell_type": "markdown",
   "id": "7712a333",
   "metadata": {},
   "source": [
    "# Exploration End - Fix found\n",
    "So this was interesting as it still didn't want to convert it! I instead had to use pd.to_numeric to get it changed and therefore need to change to that column for my bar graph."
   ]
  },
  {
   "cell_type": "code",
   "execution_count": 22,
   "id": "1407c981-8ce7-4301-a2cf-795837b08f41",
   "metadata": {},
   "outputs": [
    {
     "data": {
      "text/plain": [
       "Warehouse\n",
       "Whse_A     147877431\n",
       "Whse_C     585071404\n",
       "Whse_J    3363200396\n",
       "Whse_S    1038024700\n",
       "Name: Order_Demand_num, dtype: int64"
      ]
     },
     "execution_count": 22,
     "metadata": {},
     "output_type": "execute_result"
    }
   ],
   "source": [
    "df_groups = datasetdemand.groupby(['Warehouse'])['Order_Demand_num'].sum()\n",
    "df_groups"
   ]
  },
  {
   "cell_type": "code",
   "execution_count": 23,
   "id": "378635eb",
   "metadata": {},
   "outputs": [
    {
     "name": "stdout",
     "output_type": "stream",
     "text": [
      "<class 'pandas.core.series.Series'>\n"
     ]
    },
    {
     "data": {
      "image/png": "[encoded data removed]",
      "text/plain": [
       "<Figure size 640x480 with 1 Axes>"
      ]
     },
     "metadata": {},
     "output_type": "display_data"
    }
   ],
   "source": [
    "plt.title(\"Demand per Warehouse\", size = 10)\n",
    "#create bar plot by group\n",
    "df_groups.plot(kind='bar')\n",
    "print(type(df_groups))"
   ]
  },
  {
   "cell_type": "markdown",
   "id": "9765b952",
   "metadata": {},
   "source": [
    "Warehouse J seems to outproduce/ship by far with Warehouse S following at approx 1/3 of the volume of Warehouse J, so J should be the first place to optimize if possible.  Now we will go back to our datasetfull that's encoded, scale and split/train"
   ]
  },
  {
   "cell_type": "code",
   "execution_count": 24,
   "id": "6eecdcf7",
   "metadata": {},
   "outputs": [
    {
     "data": {
      "text/html": [
       "<div>\n",
       "<style scoped>\n",
       "    .dataframe tbody tr th:only-of-type {\n",
       "        vertical-align: middle;\n",
       "    }\n",
       "\n",
       "    .dataframe tbody tr th {\n",
       "        vertical-align: top;\n",
       "    }\n",
       "\n",
       "    .dataframe thead th {\n",
       "        text-align: right;\n",
       "    }\n",
       "</style>\n",
       "<table border=\"1\" class=\"dataframe\">\n",
       "  <thead>\n",
       "    <tr style=\"text-align: right;\">\n",
       "      <th></th>\n",
       "      <th>Product_Code</th>\n",
       "      <th>Date</th>\n",
       "      <th>Order_Demand</th>\n",
       "      <th>Warehouse_Whse_A</th>\n",
       "      <th>Warehouse_Whse_C</th>\n",
       "      <th>Warehouse_Whse_J</th>\n",
       "      <th>Warehouse_Whse_S</th>\n",
       "    </tr>\n",
       "  </thead>\n",
       "  <tbody>\n",
       "    <tr>\n",
       "      <th>0</th>\n",
       "      <td>982</td>\n",
       "      <td>2012/7/27</td>\n",
       "      <td>100</td>\n",
       "      <td>0</td>\n",
       "      <td>0</td>\n",
       "      <td>1</td>\n",
       "      <td>0</td>\n",
       "    </tr>\n",
       "    <tr>\n",
       "      <th>1</th>\n",
       "      <td>968</td>\n",
       "      <td>2012/1/19</td>\n",
       "      <td>500</td>\n",
       "      <td>0</td>\n",
       "      <td>0</td>\n",
       "      <td>1</td>\n",
       "      <td>0</td>\n",
       "    </tr>\n",
       "    <tr>\n",
       "      <th>2</th>\n",
       "      <td>968</td>\n",
       "      <td>2012/2/3</td>\n",
       "      <td>500</td>\n",
       "      <td>0</td>\n",
       "      <td>0</td>\n",
       "      <td>1</td>\n",
       "      <td>0</td>\n",
       "    </tr>\n",
       "    <tr>\n",
       "      <th>3</th>\n",
       "      <td>968</td>\n",
       "      <td>2012/2/9</td>\n",
       "      <td>500</td>\n",
       "      <td>0</td>\n",
       "      <td>0</td>\n",
       "      <td>1</td>\n",
       "      <td>0</td>\n",
       "    </tr>\n",
       "    <tr>\n",
       "      <th>4</th>\n",
       "      <td>968</td>\n",
       "      <td>2012/3/2</td>\n",
       "      <td>500</td>\n",
       "      <td>0</td>\n",
       "      <td>0</td>\n",
       "      <td>1</td>\n",
       "      <td>0</td>\n",
       "    </tr>\n",
       "  </tbody>\n",
       "</table>\n",
       "</div>"
      ],
      "text/plain": [
       "  Product_Code       Date Order_Demand  Warehouse_Whse_A  Warehouse_Whse_C  \\\n",
       "0          982  2012/7/27         100                  0                 0   \n",
       "1          968  2012/1/19         500                  0                 0   \n",
       "2          968   2012/2/3         500                  0                 0   \n",
       "3          968   2012/2/9         500                  0                 0   \n",
       "4          968   2012/3/2         500                  0                 0   \n",
       "\n",
       "   Warehouse_Whse_J  Warehouse_Whse_S  \n",
       "0                 1                 0  \n",
       "1                 1                 0  \n",
       "2                 1                 0  \n",
       "3                 1                 0  \n",
       "4                 1                 0  "
      ]
     },
     "execution_count": 24,
     "metadata": {},
     "output_type": "execute_result"
    }
   ],
   "source": [
    "datafull.head(5)"
   ]
  },
  {
   "cell_type": "code",
   "execution_count": 26,
   "id": "9896745f",
   "metadata": {},
   "outputs": [
    {
     "name": "stdout",
     "output_type": "stream",
     "text": [
      "829868 207468\n",
      "829868 103734 103734\n"
     ]
    }
   ],
   "source": [
    "# and then train/test/split\n",
    "encoded_y = datafull.iloc[:, 0].values\n",
    "encoded_x = datafull.iloc[:, 1:7].values\n",
    "\n",
    "# train is now 80% of the entire data set\n",
    "X_train, X_test, y_train, y_test = train_test_split(encoded_x, encoded_y, test_size=0.2)\n",
    "\n",
    "print(len(X_train), len(X_test))\n",
    "# test is now 10% of the initial data set\n",
    "# validation is now 10% of the initial data set\n",
    "X_val, X_test, y_val, y_test = train_test_split(X_test, y_test, test_size=.5) \n",
    "print(len(X_train), len(X_val), len(X_test))"
   ]
  }
 ],
 "metadata": {
  "kernelspec": {
   "display_name": "Python 3 (ipykernel)",
   "language": "python",
   "name": "python3"
  },
  "language_info": {
   "codemirror_mode": {
    "name": "ipython",
    "version": 3
   },
   "file_extension": ".py",
   "mimetype": "text/x-python",
   "name": "python",
   "nbconvert_exporter": "python",
   "pygments_lexer": "ipython3",
   "version": "3.11.8"
  }
 },
 "nbformat": 4,
 "nbformat_minor": 5
}
