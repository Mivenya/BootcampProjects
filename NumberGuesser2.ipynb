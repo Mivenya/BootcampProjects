{
 "cells": [
  {
   "cell_type": "markdown",
   "id": "cede84c5-410e-441c-aa44-60558f3c4bd1",
   "metadata": {},
   "source": [
    "# Specifications\n",
    "\n",
    "We are building a chatbot as a number guesser. You need to write a number guesser class to guess a number in a range of your choosing and can give the user three hints. You must implement the required properties for the class to have a random number in the range you want and five properties to use as hints(parity, factors, multiples, larger, smaller). There should be private methods in the class to calculate those properties when an object is created. \n",
    "\n",
    "# Milestones\n",
    "- Implement the Gueser class\n",
    "- Build the class to guess a number and get its properties.\n",
    "- Implement the chatbot to interact with the user\n",
    "- Display the information the user is looking for.\n",
    "\n",
    "## Submit github\n"
   ]
  },
  {
   "cell_type": "markdown",
   "id": "aa51d64a-5294-44bf-a1b1-34ff9ee12e97",
   "metadata": {},
   "source": [
    "### Step 1\n",
    "Inputs and Outcomes\n",
    "\n",
    "Below are the different variations of inputs and outcomes for the chatbot:\n",
    "\n",
    "- Create an object of the class. "
   ]
  },
  {
   "cell_type": "code",
   "execution_count": 2,
   "id": "5b8c0b37-cec2-4158-ae31-22eb70e76985",
   "metadata": {},
   "outputs": [
    {
     "name": "stdout",
     "output_type": "stream",
     "text": [
      "57\n",
      "Please make your first guess a number between 0 and 100 this will be the range to guess your number!:\n"
     ]
    },
    {
     "name": "stdin",
     "output_type": "stream",
     "text": [
      " 57\n"
     ]
    },
    {
     "name": "stdout",
     "output_type": "stream",
     "text": [
      "Congratulations you got the number!\n"
     ]
    },
    {
     "data": {
      "text/plain": [
       "<__main__.num_guesser at 0x2928a12bdd0>"
      ]
     },
     "execution_count": 2,
     "metadata": {},
     "output_type": "execute_result"
    }
   ],
   "source": [
    "import random\n",
    "\n",
    "#variables I may need\n",
    "\n",
    "hint = 0\n",
    "guess =0\n",
    "\n",
    "\n",
    "# Step 1: Create an object of the class\n",
    "class num_guesser:\n",
    "    def __init__(self):\n",
    "        #Get the random number\n",
    "        self.the_number = random.randint(1,100)\n",
    "        print(self.the_number)\n",
    "        #self.get_user_number()\n",
    "        #print(self.the_number)\n",
    "\n",
    "        #Get User first guess\n",
    "        print(\"Please make your first guess a number between 0 and 100 this will be the range to guess your number!:\")\n",
    "        self.user_input = int(input())\n",
    "\n",
    "        if self.the_number == self.user_input:\n",
    "            print(\"Congratulations you got the number!\")\n",
    "        \n",
    "        elif self.the_number !=  self.user_input:\n",
    "            print(f\"{self.user_input} is not the correct number! Please either guess again or type 'hint':\")\n",
    "            self.user_input = int(input())               \n",
    "            \n",
    "                \n",
    "        else:\n",
    "            print(f\"{self.user_input} is not the correct number! Please either guess again or type 'hint':\")\n",
    "            self.user_input = input()     \n",
    "            \n",
    "\n",
    "num_guesser()\n",
    "   # def first_check(self):\n",
    "        \n",
    "    #    if self.the_number ==  self.user_input:\n",
    "   #         print(\"Congratulations you got the number!\")\n",
    "                \n",
    "    #    else:\n",
    "      #      print(f\"{self.user_input} is not the correct number! Please either guess again or type 'hint':\")\n",
    "     #       self.user_input = input()\n",
    "    \n",
    "#add this\n",
    "  #  def hint(self):\n",
    "\n",
    "#add this\n",
    "   # def remaining(self):\n",
    "  \n",
    "\n",
    "        \n",
    "#Step 2: Greet user and get first guess\n",
    "\n",
    "#print(\"Do you want to play a game?  You have 3 guesses, and up to 4 hints.  If you need a hint type 'hint' in all lowercase\")\n",
    "\n",
    "\n",
    "#myChatbot.generate_random_number()\n",
    "\n",
    "#print(myChatbot.the_number)\n",
    "#print(myChatbot.random_number)\n",
    "\n",
    "#myChatbot.get_user_number()\n",
    "\n",
    "\n",
    "\n",
    "\n",
    "\n",
    "\n",
    "#Step 3: Check - is number correct?  If yes end if no ask for next\n",
    "\n",
    "\n"
   ]
  },
  {
   "cell_type": "code",
   "execution_count": null,
   "id": "5178be56-df06-4dfc-aa5b-1b00559b35ca",
   "metadata": {},
   "outputs": [],
   "source": [
    "\n"
   ]
  },
  {
   "cell_type": "markdown",
   "id": "cf965fa2-ccd5-4d5b-8698-6e9633156c83",
   "metadata": {},
   "source": [
    "### Step 2\n",
    "The chatbot greets the user and tells them they have guessed a number, that they have 4 (you are free to change the number) guesses to make, and waits for the user's input. "
   ]
  },
  {
   "cell_type": "code",
   "execution_count": null,
   "id": "dfd8f646-a49e-45c4-a1ee-16887e256d01",
   "metadata": {},
   "outputs": [],
   "source": [
    "    print(\"Welcome!  You have 3 guesses to guess the number.  It's between 1-100.\")\n",
    "    input('What is your first number guess?')"
   ]
  },
  {
   "cell_type": "markdown",
   "id": "abf1e9f8-51a5-4fcd-ae97-9047822e85a4",
   "metadata": {},
   "source": [
    "### Step 3\n",
    "If the user guessed right, the chatbot congratulates them and exits. "
   ]
  },
  {
   "cell_type": "markdown",
   "id": "69d45dbc-eec4-464d-ba60-d844ab7519bf",
   "metadata": {},
   "source": [
    "### Step 4 \n",
    "If the user guessed wrong, the chatbot subtracts the number of guesses by 1, asks them to guess again, and reminds them they can request up to 3 hints by typing \"hint\" in the terminal. "
   ]
  },
  {
   "cell_type": "markdown",
   "id": "f2aa0bce-341a-4595-944d-896d08100e80",
   "metadata": {},
   "source": [
    "### Step 5\n",
    "If the user guesses right at any point, the chatbot congratulates them and exits. "
   ]
  },
  {
   "cell_type": "markdown",
   "id": "c65c98ad-0e0e-4f0c-b4ce-e50839925f7b",
   "metadata": {},
   "source": [
    "### Step 6\n",
    " If the user requests a hint, the chatbot will randomly choose between the five hints divided into three categories:\n",
    "\n",
    "    Factors, multiples\n",
    "    Larger, Smaller\n",
    "    Parity\n"
   ]
  },
  {
   "cell_type": "markdown",
   "id": "3f9506aa-e303-449c-9458-1fc24ce055f1",
   "metadata": {},
   "source": [
    "### Step 7\n",
    "If the hint is \"a\", the chatbot will choose either to display factors or multiples, taking into consideration that if one of them isn't applicable, it'll choose the other(If both aren't, what could that mean?). "
   ]
  },
  {
   "cell_type": "markdown",
   "id": "61c56591-f223-4c00-aa23-39c969abd27f",
   "metadata": {},
   "source": [
    "### Step 8\n",
    "The factors is a list of all numbers that the chatbot guessed number is divisible by, and the chatbot will choose one of them randomly"
   ]
  },
  {
   "cell_type": "markdown",
   "id": "c6733273-6124-4a6f-b26b-f0a90c4629e2",
   "metadata": {},
   "source": [
    "### Step 9 \n",
    "The multiples are multiples of the chatbot's guessed number, and the chatbot will choose one of them randomly. "
   ]
  },
  {
   "cell_type": "markdown",
   "id": "a0177e72-f6c1-4043-8f8e-5a27b7786926",
   "metadata": {},
   "source": [
    "### Step 10\n",
    "If the hint is \"b\", the chatbot will choose either to display a larger number or a smaller number than the chatbot guessed number, taking into consideration that if one of them isn't applicable, it'll choose the other. "
   ]
  },
  {
   "cell_type": "markdown",
   "id": "3ae2a44b-bc84-4c81-b08c-54b650de2435",
   "metadata": {},
   "source": [
    "### Step 11\n",
    "The larger or smaller number must be in the range of the guesses (if the number is between 1 and 10, then smaller or larger must be in that range as well). "
   ]
  },
  {
   "cell_type": "markdown",
   "id": "e854e7a8-5182-4d29-ab85-9a75f998ee3b",
   "metadata": {},
   "source": [
    "### Step 12\n",
    " If the hint is \"c\", the chatbot will write whether the number is even or odd.\n"
   ]
  },
  {
   "cell_type": "markdown",
   "id": "d23cdf94-995e-4010-ad43-c1d897a9f9e3",
   "metadata": {},
   "source": [
    "### Step 13\n",
    "If the user runs out of hints, the chatbot will only take guesses from the user and display an apology if they request a hint. "
   ]
  },
  {
   "cell_type": "markdown",
   "id": "a829eae9-a94d-40ad-9434-81741be7bace",
   "metadata": {},
   "source": [
    "### Step 14\n",
    "If the user runs out of guesses, the chatbot tells them the number and exits. "
   ]
  },
  {
   "cell_type": "markdown",
   "id": "06fe673e-8387-4574-8b54-a142516920dd",
   "metadata": {},
   "source": [
    "### Step 15\n",
    "The chatbot must always remind the user after every guess or hint of how many guesses and hints are remaining. "
   ]
  },
  {
   "cell_type": "code",
   "execution_count": null,
   "id": "162dafa5-70d9-476d-bac5-ad7e272cabdb",
   "metadata": {},
   "outputs": [],
   "source": []
  },
  {
   "cell_type": "markdown",
   "id": "5ecac5e9-e1fd-4dd1-8387-69f60adb28d1",
   "metadata": {},
   "source": [
    "### Possible Extras\n",
    "\n",
    "- check no more than 3 digits if so return value error and re prompt"
   ]
  },
  {
   "cell_type": "code",
   "execution_count": null,
   "id": "8c9b9c0b-73c2-4172-b5a1-41a2206d06f3",
   "metadata": {},
   "outputs": [],
   "source": [
    "class num_guesser:\n",
    "    def __init__(self, the_number):\n",
    "        self.the_number = the_number\n",
    "        self.generate_random_number()\n",
    "        self.get_user_number()\n",
    "        \n",
    "\n",
    "        print(f\"please input a number between 0 and {self.the_number}:\")\n",
    "       # self.user_input = input()\n",
    "\n",
    "myChatbot = num_guesser(100)\n",
    "#my Chatbot.generate_random_number()\n",
    "\n",
    "print(myChatbot.n)\n",
    "print(myChatbot.random_number)\n",
    "\n",
    "myChat.get_user_num"
   ]
  },
  {
   "cell_type": "markdown",
   "id": "9db7a8d4-214b-48dc-b731-9dc15aa5257a",
   "metadata": {},
   "source": [
    "Example:"
   ]
  },
  {
   "cell_type": "code",
   "execution_count": null,
   "id": "dde8b493-da84-4435-9e2b-f0bf0341509f",
   "metadata": {},
   "outputs": [],
   "source": [
    "class chatbot:\n",
    "    def __init__(self, n):\n",
    "        self.n = n\n",
    "        self.generate_random_number()\n",
    "        self.get_user_number()\n",
    "    def generate_random_number(self):\n",
    "        self.random_number = randrange(self.n)\n",
    "    def get_user_number(self):\n",
    "        print(f\"please input a number between 0 and {self.n}:\")\n",
    "        self.user_input = input()\n",
    "\n"
   ]
  },
  {
   "cell_type": "code",
   "execution_count": null,
   "id": "97ca57be-92c9-4338-8bad-cbb8f245867b",
   "metadata": {},
   "outputs": [],
   "source": []
  },
  {
   "cell_type": "code",
   "execution_count": null,
   "id": "b89e5ea8-9764-4c06-8f55-8b84fe6ffdab",
   "metadata": {},
   "outputs": [],
   "source": []
  },
  {
   "cell_type": "code",
   "execution_count": null,
   "id": "ae41ec69-ef2a-4ed5-8ca4-03cfd91e6bbc",
   "metadata": {},
   "outputs": [],
   "source": []
  }
 ],
 "metadata": {
  "kernelspec": {
   "display_name": "Python 3 (ipykernel)",
   "language": "python",
   "name": "python3"
  },
  "language_info": {
   "codemirror_mode": {
    "name": "ipython",
    "version": 3
   },
   "file_extension": ".py",
   "mimetype": "text/x-python",
   "name": "python",
   "nbconvert_exporter": "python",
   "pygments_lexer": "ipython3",
   "version": "3.11.8"
  }
 },
 "nbformat": 4,
 "nbformat_minor": 5
}
